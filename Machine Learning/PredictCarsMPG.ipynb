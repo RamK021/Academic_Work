{
 "cells": [
  {
   "cell_type": "markdown",
   "metadata": {},
   "source": [
    "**Objective**: To build a linear regression model for the prediction of mpg of cars using the mtcars.csv dataset."
   ]
  },
  {
   "cell_type": "code",
   "execution_count": 1,
   "metadata": {},
   "outputs": [],
   "source": [
    "import pandas as pd\n",
    "import matplotlib.pyplot as plt\n",
    "import sklearn"
   ]
  },
  {
   "cell_type": "code",
   "execution_count": 2,
   "metadata": {},
   "outputs": [
    {
     "data": {
      "text/html": [
       "<div>\n",
       "<style scoped>\n",
       "    .dataframe tbody tr th:only-of-type {\n",
       "        vertical-align: middle;\n",
       "    }\n",
       "\n",
       "    .dataframe tbody tr th {\n",
       "        vertical-align: top;\n",
       "    }\n",
       "\n",
       "    .dataframe thead th {\n",
       "        text-align: right;\n",
       "    }\n",
       "</style>\n",
       "<table border=\"1\" class=\"dataframe\">\n",
       "  <thead>\n",
       "    <tr style=\"text-align: right;\">\n",
       "      <th></th>\n",
       "      <th>model</th>\n",
       "      <th>mpg</th>\n",
       "      <th>cyl</th>\n",
       "      <th>disp</th>\n",
       "      <th>hp</th>\n",
       "      <th>drat</th>\n",
       "      <th>wt</th>\n",
       "      <th>qsec</th>\n",
       "      <th>vs</th>\n",
       "      <th>am</th>\n",
       "      <th>gear</th>\n",
       "      <th>carb</th>\n",
       "    </tr>\n",
       "  </thead>\n",
       "  <tbody>\n",
       "    <tr>\n",
       "      <th>0</th>\n",
       "      <td>Mazda RX4</td>\n",
       "      <td>21.0</td>\n",
       "      <td>6</td>\n",
       "      <td>160.0</td>\n",
       "      <td>110</td>\n",
       "      <td>3.90</td>\n",
       "      <td>2.620</td>\n",
       "      <td>16.46</td>\n",
       "      <td>0</td>\n",
       "      <td>1</td>\n",
       "      <td>4</td>\n",
       "      <td>4</td>\n",
       "    </tr>\n",
       "    <tr>\n",
       "      <th>1</th>\n",
       "      <td>Mazda RX4 Wag</td>\n",
       "      <td>21.0</td>\n",
       "      <td>6</td>\n",
       "      <td>160.0</td>\n",
       "      <td>110</td>\n",
       "      <td>3.90</td>\n",
       "      <td>2.875</td>\n",
       "      <td>17.02</td>\n",
       "      <td>0</td>\n",
       "      <td>1</td>\n",
       "      <td>4</td>\n",
       "      <td>4</td>\n",
       "    </tr>\n",
       "    <tr>\n",
       "      <th>2</th>\n",
       "      <td>Datsun 710</td>\n",
       "      <td>22.8</td>\n",
       "      <td>4</td>\n",
       "      <td>108.0</td>\n",
       "      <td>93</td>\n",
       "      <td>3.85</td>\n",
       "      <td>2.320</td>\n",
       "      <td>18.61</td>\n",
       "      <td>1</td>\n",
       "      <td>1</td>\n",
       "      <td>4</td>\n",
       "      <td>1</td>\n",
       "    </tr>\n",
       "    <tr>\n",
       "      <th>3</th>\n",
       "      <td>Hornet 4 Drive</td>\n",
       "      <td>21.4</td>\n",
       "      <td>6</td>\n",
       "      <td>258.0</td>\n",
       "      <td>110</td>\n",
       "      <td>3.08</td>\n",
       "      <td>3.215</td>\n",
       "      <td>19.44</td>\n",
       "      <td>1</td>\n",
       "      <td>0</td>\n",
       "      <td>3</td>\n",
       "      <td>1</td>\n",
       "    </tr>\n",
       "    <tr>\n",
       "      <th>4</th>\n",
       "      <td>Hornet Sportabout</td>\n",
       "      <td>18.7</td>\n",
       "      <td>8</td>\n",
       "      <td>360.0</td>\n",
       "      <td>175</td>\n",
       "      <td>3.15</td>\n",
       "      <td>3.440</td>\n",
       "      <td>17.02</td>\n",
       "      <td>0</td>\n",
       "      <td>0</td>\n",
       "      <td>3</td>\n",
       "      <td>2</td>\n",
       "    </tr>\n",
       "  </tbody>\n",
       "</table>\n",
       "</div>"
      ],
      "text/plain": [
       "               model   mpg  cyl   disp   hp  drat     wt   qsec  vs  am  gear  \\\n",
       "0          Mazda RX4  21.0    6  160.0  110  3.90  2.620  16.46   0   1     4   \n",
       "1      Mazda RX4 Wag  21.0    6  160.0  110  3.90  2.875  17.02   0   1     4   \n",
       "2         Datsun 710  22.8    4  108.0   93  3.85  2.320  18.61   1   1     4   \n",
       "3     Hornet 4 Drive  21.4    6  258.0  110  3.08  3.215  19.44   1   0     3   \n",
       "4  Hornet Sportabout  18.7    8  360.0  175  3.15  3.440  17.02   0   0     3   \n",
       "\n",
       "   carb  \n",
       "0     4  \n",
       "1     4  \n",
       "2     1  \n",
       "3     1  \n",
       "4     2  "
      ]
     },
     "execution_count": 2,
     "metadata": {},
     "output_type": "execute_result"
    }
   ],
   "source": [
    "data = pd.read_csv(\"mtcars.csv\")\n",
    "data.head()"
   ]
  },
  {
   "cell_type": "markdown",
   "metadata": {},
   "source": [
    "### Technical Specification of cars:\n",
    "**cyl**: This represents the number of cylinders in the car's engine. It's an important factor in determining an engine's power and performance.\n",
    "\n",
    "**disp**: Short for \"displacement,\" it measures the engine's total piston volume. It is often expressed in cubic inches (CID) or cubic centimeters (cc) and is a key indicator of an engine's size and power.\n",
    "\n",
    "**hp**: This stands for \"horsepower,\" which quantifies the engine's ability to do work. It's a crucial measure of a car's engine performance and power output.\n",
    "\n",
    "**drat**: The \"drat\" value usually refers to the rear axle ratio. It indicates how many times the driveshaft must rotate to turn the rear wheels once. A higher value typically implies better acceleration but lower top speed.\n",
    "\n",
    "**wt**: This is the car's weight, often measured in pounds or kilograms. Weight is a critical factor in a vehicle's performance and fuel efficiency.\n",
    "\n",
    "**qsec**: Short for \"quarter mile time,\" it measures how long it takes for a car to complete a quarter-mile drag race. This is an indicator of a car's acceleration and speed capabilities.\n",
    "\n",
    "**vs**: Stands for \"v/s,\" which typically represents the type of engine setup, such as V-shaped or inline engines. It can also refer to \"vapor separator,\" which is part of a fuel system.\n",
    "\n",
    "**am**: Refers to \"automatic\" or \"manual\" transmission. It indicates whether the car has an automatic or manual gearbox.\n",
    "\n",
    "**gear**: The number of forward gears in the car's transmission. More gears often provide a better balance between fuel efficiency and performance.\n",
    "\n",
    "**carb**: Short for \"carburetor,\" it denotes the type and configuration of the carburetion system in the engine. Carburetors are less common in modern vehicles due to fuel injection technology.\n",
    "\n",
    "**mpg**: This represents \"miles per gallon,\" which is a measure of a car's fuel efficiency. It tells you how many miles a car can travel on one gallon of fuel."
   ]
  },
  {
   "cell_type": "code",
   "execution_count": 3,
   "metadata": {},
   "outputs": [
    {
     "data": {
      "text/plain": [
       "(32, 12)"
      ]
     },
     "execution_count": 3,
     "metadata": {},
     "output_type": "execute_result"
    }
   ],
   "source": [
    "data.shape"
   ]
  },
  {
   "cell_type": "code",
   "execution_count": 4,
   "metadata": {},
   "outputs": [
    {
     "name": "stdout",
     "output_type": "stream",
     "text": [
      "<class 'pandas.core.frame.DataFrame'>\n",
      "RangeIndex: 32 entries, 0 to 31\n",
      "Data columns (total 12 columns):\n",
      " #   Column  Non-Null Count  Dtype  \n",
      "---  ------  --------------  -----  \n",
      " 0   model   32 non-null     object \n",
      " 1   mpg     32 non-null     float64\n",
      " 2   cyl     32 non-null     int64  \n",
      " 3   disp    32 non-null     float64\n",
      " 4   hp      32 non-null     int64  \n",
      " 5   drat    32 non-null     float64\n",
      " 6   wt      32 non-null     float64\n",
      " 7   qsec    32 non-null     float64\n",
      " 8   vs      32 non-null     int64  \n",
      " 9   am      32 non-null     int64  \n",
      " 10  gear    32 non-null     int64  \n",
      " 11  carb    32 non-null     int64  \n",
      "dtypes: float64(5), int64(6), object(1)\n",
      "memory usage: 3.1+ KB\n"
     ]
    }
   ],
   "source": [
    "data.info()"
   ]
  },
  {
   "cell_type": "code",
   "execution_count": 5,
   "metadata": {},
   "outputs": [
    {
     "data": {
      "text/plain": [
       "model    False\n",
       "mpg      False\n",
       "cyl      False\n",
       "disp     False\n",
       "hp       False\n",
       "drat     False\n",
       "wt       False\n",
       "qsec     False\n",
       "vs       False\n",
       "am       False\n",
       "gear     False\n",
       "carb     False\n",
       "dtype: bool"
      ]
     },
     "execution_count": 5,
     "metadata": {},
     "output_type": "execute_result"
    }
   ],
   "source": [
    "data.isnull().any()"
   ]
  },
  {
   "cell_type": "code",
   "execution_count": 6,
   "metadata": {},
   "outputs": [
    {
     "data": {
      "text/plain": [
       "model    0\n",
       "mpg      0\n",
       "cyl      0\n",
       "disp     0\n",
       "hp       0\n",
       "drat     0\n",
       "wt       0\n",
       "qsec     0\n",
       "vs       0\n",
       "am       0\n",
       "gear     0\n",
       "carb     0\n",
       "dtype: int64"
      ]
     },
     "execution_count": 6,
     "metadata": {},
     "output_type": "execute_result"
    }
   ],
   "source": [
    "data.isnull().sum()"
   ]
  },
  {
   "cell_type": "code",
   "execution_count": 7,
   "metadata": {},
   "outputs": [],
   "source": [
    "features = data.iloc[:, 2:] # data.iloc[select all row(:), select column 2 to last column(2:)]\n",
    "predictions = data.iloc[:, 1]"
   ]
  },
  {
   "cell_type": "code",
   "execution_count": 8,
   "metadata": {},
   "outputs": [
    {
     "data": {
      "text/html": [
       "<div>\n",
       "<style scoped>\n",
       "    .dataframe tbody tr th:only-of-type {\n",
       "        vertical-align: middle;\n",
       "    }\n",
       "\n",
       "    .dataframe tbody tr th {\n",
       "        vertical-align: top;\n",
       "    }\n",
       "\n",
       "    .dataframe thead th {\n",
       "        text-align: right;\n",
       "    }\n",
       "</style>\n",
       "<table border=\"1\" class=\"dataframe\">\n",
       "  <thead>\n",
       "    <tr style=\"text-align: right;\">\n",
       "      <th></th>\n",
       "      <th>cyl</th>\n",
       "      <th>disp</th>\n",
       "      <th>hp</th>\n",
       "      <th>drat</th>\n",
       "      <th>wt</th>\n",
       "      <th>qsec</th>\n",
       "      <th>vs</th>\n",
       "      <th>am</th>\n",
       "      <th>gear</th>\n",
       "      <th>carb</th>\n",
       "    </tr>\n",
       "  </thead>\n",
       "  <tbody>\n",
       "    <tr>\n",
       "      <th>0</th>\n",
       "      <td>6</td>\n",
       "      <td>160.0</td>\n",
       "      <td>110</td>\n",
       "      <td>3.90</td>\n",
       "      <td>2.620</td>\n",
       "      <td>16.46</td>\n",
       "      <td>0</td>\n",
       "      <td>1</td>\n",
       "      <td>4</td>\n",
       "      <td>4</td>\n",
       "    </tr>\n",
       "    <tr>\n",
       "      <th>1</th>\n",
       "      <td>6</td>\n",
       "      <td>160.0</td>\n",
       "      <td>110</td>\n",
       "      <td>3.90</td>\n",
       "      <td>2.875</td>\n",
       "      <td>17.02</td>\n",
       "      <td>0</td>\n",
       "      <td>1</td>\n",
       "      <td>4</td>\n",
       "      <td>4</td>\n",
       "    </tr>\n",
       "    <tr>\n",
       "      <th>2</th>\n",
       "      <td>4</td>\n",
       "      <td>108.0</td>\n",
       "      <td>93</td>\n",
       "      <td>3.85</td>\n",
       "      <td>2.320</td>\n",
       "      <td>18.61</td>\n",
       "      <td>1</td>\n",
       "      <td>1</td>\n",
       "      <td>4</td>\n",
       "      <td>1</td>\n",
       "    </tr>\n",
       "    <tr>\n",
       "      <th>3</th>\n",
       "      <td>6</td>\n",
       "      <td>258.0</td>\n",
       "      <td>110</td>\n",
       "      <td>3.08</td>\n",
       "      <td>3.215</td>\n",
       "      <td>19.44</td>\n",
       "      <td>1</td>\n",
       "      <td>0</td>\n",
       "      <td>3</td>\n",
       "      <td>1</td>\n",
       "    </tr>\n",
       "    <tr>\n",
       "      <th>4</th>\n",
       "      <td>8</td>\n",
       "      <td>360.0</td>\n",
       "      <td>175</td>\n",
       "      <td>3.15</td>\n",
       "      <td>3.440</td>\n",
       "      <td>17.02</td>\n",
       "      <td>0</td>\n",
       "      <td>0</td>\n",
       "      <td>3</td>\n",
       "      <td>2</td>\n",
       "    </tr>\n",
       "  </tbody>\n",
       "</table>\n",
       "</div>"
      ],
      "text/plain": [
       "   cyl   disp   hp  drat     wt   qsec  vs  am  gear  carb\n",
       "0    6  160.0  110  3.90  2.620  16.46   0   1     4     4\n",
       "1    6  160.0  110  3.90  2.875  17.02   0   1     4     4\n",
       "2    4  108.0   93  3.85  2.320  18.61   1   1     4     1\n",
       "3    6  258.0  110  3.08  3.215  19.44   1   0     3     1\n",
       "4    8  360.0  175  3.15  3.440  17.02   0   0     3     2"
      ]
     },
     "execution_count": 8,
     "metadata": {},
     "output_type": "execute_result"
    }
   ],
   "source": [
    "features.head()"
   ]
  },
  {
   "cell_type": "code",
   "execution_count": 9,
   "metadata": {},
   "outputs": [
    {
     "data": {
      "text/plain": [
       "0    21.0\n",
       "1    21.0\n",
       "2    22.8\n",
       "3    21.4\n",
       "4    18.7\n",
       "Name: mpg, dtype: float64"
      ]
     },
     "execution_count": 9,
     "metadata": {},
     "output_type": "execute_result"
    }
   ],
   "source": [
    "predictions.head()"
   ]
  },
  {
   "cell_type": "code",
   "execution_count": 10,
   "metadata": {},
   "outputs": [],
   "source": [
    "from sklearn.model_selection import train_test_split\n",
    "x_train, x_test, y_train, y_test = train_test_split(features, predictions, test_size=0.2, random_state=42, shuffle=True)"
   ]
  },
  {
   "cell_type": "code",
   "execution_count": 11,
   "metadata": {},
   "outputs": [],
   "source": [
    "train_data = pd.concat([x_train, y_train], axis='columns',\n",
    "                       names=['cyl', 'disp', 'hp', 'drat', 'wt', 'qsec', 'vs', 'am', 'gear', 'carb', 'mpg'])"
   ]
  },
  {
   "cell_type": "code",
   "execution_count": 12,
   "metadata": {},
   "outputs": [
    {
     "data": {
      "text/html": [
       "<div>\n",
       "<style scoped>\n",
       "    .dataframe tbody tr th:only-of-type {\n",
       "        vertical-align: middle;\n",
       "    }\n",
       "\n",
       "    .dataframe tbody tr th {\n",
       "        vertical-align: top;\n",
       "    }\n",
       "\n",
       "    .dataframe thead th {\n",
       "        text-align: right;\n",
       "    }\n",
       "</style>\n",
       "<table border=\"1\" class=\"dataframe\">\n",
       "  <thead>\n",
       "    <tr style=\"text-align: right;\">\n",
       "      <th></th>\n",
       "      <th>cyl</th>\n",
       "      <th>disp</th>\n",
       "      <th>hp</th>\n",
       "      <th>drat</th>\n",
       "      <th>wt</th>\n",
       "      <th>qsec</th>\n",
       "      <th>vs</th>\n",
       "      <th>am</th>\n",
       "      <th>gear</th>\n",
       "      <th>carb</th>\n",
       "      <th>mpg</th>\n",
       "    </tr>\n",
       "  </thead>\n",
       "  <tbody>\n",
       "    <tr>\n",
       "      <th>25</th>\n",
       "      <td>4</td>\n",
       "      <td>79.0</td>\n",
       "      <td>66</td>\n",
       "      <td>4.08</td>\n",
       "      <td>1.935</td>\n",
       "      <td>18.90</td>\n",
       "      <td>1</td>\n",
       "      <td>1</td>\n",
       "      <td>4</td>\n",
       "      <td>1</td>\n",
       "      <td>27.3</td>\n",
       "    </tr>\n",
       "    <tr>\n",
       "      <th>12</th>\n",
       "      <td>8</td>\n",
       "      <td>275.8</td>\n",
       "      <td>180</td>\n",
       "      <td>3.07</td>\n",
       "      <td>3.730</td>\n",
       "      <td>17.60</td>\n",
       "      <td>0</td>\n",
       "      <td>0</td>\n",
       "      <td>3</td>\n",
       "      <td>3</td>\n",
       "      <td>17.3</td>\n",
       "    </tr>\n",
       "    <tr>\n",
       "      <th>0</th>\n",
       "      <td>6</td>\n",
       "      <td>160.0</td>\n",
       "      <td>110</td>\n",
       "      <td>3.90</td>\n",
       "      <td>2.620</td>\n",
       "      <td>16.46</td>\n",
       "      <td>0</td>\n",
       "      <td>1</td>\n",
       "      <td>4</td>\n",
       "      <td>4</td>\n",
       "      <td>21.0</td>\n",
       "    </tr>\n",
       "    <tr>\n",
       "      <th>4</th>\n",
       "      <td>8</td>\n",
       "      <td>360.0</td>\n",
       "      <td>175</td>\n",
       "      <td>3.15</td>\n",
       "      <td>3.440</td>\n",
       "      <td>17.02</td>\n",
       "      <td>0</td>\n",
       "      <td>0</td>\n",
       "      <td>3</td>\n",
       "      <td>2</td>\n",
       "      <td>18.7</td>\n",
       "    </tr>\n",
       "    <tr>\n",
       "      <th>16</th>\n",
       "      <td>8</td>\n",
       "      <td>440.0</td>\n",
       "      <td>230</td>\n",
       "      <td>3.23</td>\n",
       "      <td>5.345</td>\n",
       "      <td>17.42</td>\n",
       "      <td>0</td>\n",
       "      <td>0</td>\n",
       "      <td>3</td>\n",
       "      <td>4</td>\n",
       "      <td>14.7</td>\n",
       "    </tr>\n",
       "    <tr>\n",
       "      <th>5</th>\n",
       "      <td>6</td>\n",
       "      <td>225.0</td>\n",
       "      <td>105</td>\n",
       "      <td>2.76</td>\n",
       "      <td>3.460</td>\n",
       "      <td>20.22</td>\n",
       "      <td>1</td>\n",
       "      <td>0</td>\n",
       "      <td>3</td>\n",
       "      <td>1</td>\n",
       "      <td>18.1</td>\n",
       "    </tr>\n",
       "    <tr>\n",
       "      <th>13</th>\n",
       "      <td>8</td>\n",
       "      <td>275.8</td>\n",
       "      <td>180</td>\n",
       "      <td>3.07</td>\n",
       "      <td>3.780</td>\n",
       "      <td>18.00</td>\n",
       "      <td>0</td>\n",
       "      <td>0</td>\n",
       "      <td>3</td>\n",
       "      <td>3</td>\n",
       "      <td>15.2</td>\n",
       "    </tr>\n",
       "    <tr>\n",
       "      <th>11</th>\n",
       "      <td>8</td>\n",
       "      <td>275.8</td>\n",
       "      <td>180</td>\n",
       "      <td>3.07</td>\n",
       "      <td>4.070</td>\n",
       "      <td>17.40</td>\n",
       "      <td>0</td>\n",
       "      <td>0</td>\n",
       "      <td>3</td>\n",
       "      <td>3</td>\n",
       "      <td>16.4</td>\n",
       "    </tr>\n",
       "    <tr>\n",
       "      <th>23</th>\n",
       "      <td>8</td>\n",
       "      <td>350.0</td>\n",
       "      <td>245</td>\n",
       "      <td>3.73</td>\n",
       "      <td>3.840</td>\n",
       "      <td>15.41</td>\n",
       "      <td>0</td>\n",
       "      <td>0</td>\n",
       "      <td>3</td>\n",
       "      <td>4</td>\n",
       "      <td>13.3</td>\n",
       "    </tr>\n",
       "    <tr>\n",
       "      <th>1</th>\n",
       "      <td>6</td>\n",
       "      <td>160.0</td>\n",
       "      <td>110</td>\n",
       "      <td>3.90</td>\n",
       "      <td>2.875</td>\n",
       "      <td>17.02</td>\n",
       "      <td>0</td>\n",
       "      <td>1</td>\n",
       "      <td>4</td>\n",
       "      <td>4</td>\n",
       "      <td>21.0</td>\n",
       "    </tr>\n",
       "    <tr>\n",
       "      <th>2</th>\n",
       "      <td>4</td>\n",
       "      <td>108.0</td>\n",
       "      <td>93</td>\n",
       "      <td>3.85</td>\n",
       "      <td>2.320</td>\n",
       "      <td>18.61</td>\n",
       "      <td>1</td>\n",
       "      <td>1</td>\n",
       "      <td>4</td>\n",
       "      <td>1</td>\n",
       "      <td>22.8</td>\n",
       "    </tr>\n",
       "    <tr>\n",
       "      <th>26</th>\n",
       "      <td>4</td>\n",
       "      <td>120.3</td>\n",
       "      <td>91</td>\n",
       "      <td>4.43</td>\n",
       "      <td>2.140</td>\n",
       "      <td>16.70</td>\n",
       "      <td>0</td>\n",
       "      <td>1</td>\n",
       "      <td>5</td>\n",
       "      <td>2</td>\n",
       "      <td>26.0</td>\n",
       "    </tr>\n",
       "    <tr>\n",
       "      <th>3</th>\n",
       "      <td>6</td>\n",
       "      <td>258.0</td>\n",
       "      <td>110</td>\n",
       "      <td>3.08</td>\n",
       "      <td>3.215</td>\n",
       "      <td>19.44</td>\n",
       "      <td>1</td>\n",
       "      <td>0</td>\n",
       "      <td>3</td>\n",
       "      <td>1</td>\n",
       "      <td>21.4</td>\n",
       "    </tr>\n",
       "    <tr>\n",
       "      <th>21</th>\n",
       "      <td>8</td>\n",
       "      <td>318.0</td>\n",
       "      <td>150</td>\n",
       "      <td>2.76</td>\n",
       "      <td>3.520</td>\n",
       "      <td>16.87</td>\n",
       "      <td>0</td>\n",
       "      <td>0</td>\n",
       "      <td>3</td>\n",
       "      <td>2</td>\n",
       "      <td>15.5</td>\n",
       "    </tr>\n",
       "    <tr>\n",
       "      <th>27</th>\n",
       "      <td>4</td>\n",
       "      <td>95.1</td>\n",
       "      <td>113</td>\n",
       "      <td>3.77</td>\n",
       "      <td>1.513</td>\n",
       "      <td>16.90</td>\n",
       "      <td>1</td>\n",
       "      <td>1</td>\n",
       "      <td>5</td>\n",
       "      <td>2</td>\n",
       "      <td>30.4</td>\n",
       "    </tr>\n",
       "    <tr>\n",
       "      <th>22</th>\n",
       "      <td>8</td>\n",
       "      <td>304.0</td>\n",
       "      <td>150</td>\n",
       "      <td>3.15</td>\n",
       "      <td>3.435</td>\n",
       "      <td>17.30</td>\n",
       "      <td>0</td>\n",
       "      <td>0</td>\n",
       "      <td>3</td>\n",
       "      <td>2</td>\n",
       "      <td>15.2</td>\n",
       "    </tr>\n",
       "    <tr>\n",
       "      <th>18</th>\n",
       "      <td>4</td>\n",
       "      <td>75.7</td>\n",
       "      <td>52</td>\n",
       "      <td>4.93</td>\n",
       "      <td>1.615</td>\n",
       "      <td>18.52</td>\n",
       "      <td>1</td>\n",
       "      <td>1</td>\n",
       "      <td>4</td>\n",
       "      <td>2</td>\n",
       "      <td>30.4</td>\n",
       "    </tr>\n",
       "    <tr>\n",
       "      <th>31</th>\n",
       "      <td>4</td>\n",
       "      <td>121.0</td>\n",
       "      <td>109</td>\n",
       "      <td>4.11</td>\n",
       "      <td>2.780</td>\n",
       "      <td>18.60</td>\n",
       "      <td>1</td>\n",
       "      <td>1</td>\n",
       "      <td>4</td>\n",
       "      <td>2</td>\n",
       "      <td>21.4</td>\n",
       "    </tr>\n",
       "    <tr>\n",
       "      <th>20</th>\n",
       "      <td>4</td>\n",
       "      <td>120.1</td>\n",
       "      <td>97</td>\n",
       "      <td>3.70</td>\n",
       "      <td>2.465</td>\n",
       "      <td>20.01</td>\n",
       "      <td>1</td>\n",
       "      <td>0</td>\n",
       "      <td>3</td>\n",
       "      <td>1</td>\n",
       "      <td>21.5</td>\n",
       "    </tr>\n",
       "    <tr>\n",
       "      <th>7</th>\n",
       "      <td>4</td>\n",
       "      <td>146.7</td>\n",
       "      <td>62</td>\n",
       "      <td>3.69</td>\n",
       "      <td>3.190</td>\n",
       "      <td>20.00</td>\n",
       "      <td>1</td>\n",
       "      <td>0</td>\n",
       "      <td>4</td>\n",
       "      <td>2</td>\n",
       "      <td>24.4</td>\n",
       "    </tr>\n",
       "    <tr>\n",
       "      <th>10</th>\n",
       "      <td>6</td>\n",
       "      <td>167.6</td>\n",
       "      <td>123</td>\n",
       "      <td>3.92</td>\n",
       "      <td>3.440</td>\n",
       "      <td>18.90</td>\n",
       "      <td>1</td>\n",
       "      <td>0</td>\n",
       "      <td>4</td>\n",
       "      <td>4</td>\n",
       "      <td>17.8</td>\n",
       "    </tr>\n",
       "    <tr>\n",
       "      <th>14</th>\n",
       "      <td>8</td>\n",
       "      <td>472.0</td>\n",
       "      <td>205</td>\n",
       "      <td>2.93</td>\n",
       "      <td>5.250</td>\n",
       "      <td>17.98</td>\n",
       "      <td>0</td>\n",
       "      <td>0</td>\n",
       "      <td>3</td>\n",
       "      <td>4</td>\n",
       "      <td>10.4</td>\n",
       "    </tr>\n",
       "    <tr>\n",
       "      <th>28</th>\n",
       "      <td>8</td>\n",
       "      <td>351.0</td>\n",
       "      <td>264</td>\n",
       "      <td>4.22</td>\n",
       "      <td>3.170</td>\n",
       "      <td>14.50</td>\n",
       "      <td>0</td>\n",
       "      <td>1</td>\n",
       "      <td>5</td>\n",
       "      <td>4</td>\n",
       "      <td>15.8</td>\n",
       "    </tr>\n",
       "    <tr>\n",
       "      <th>19</th>\n",
       "      <td>4</td>\n",
       "      <td>71.1</td>\n",
       "      <td>65</td>\n",
       "      <td>4.22</td>\n",
       "      <td>1.835</td>\n",
       "      <td>19.90</td>\n",
       "      <td>1</td>\n",
       "      <td>1</td>\n",
       "      <td>4</td>\n",
       "      <td>1</td>\n",
       "      <td>33.9</td>\n",
       "    </tr>\n",
       "    <tr>\n",
       "      <th>6</th>\n",
       "      <td>8</td>\n",
       "      <td>360.0</td>\n",
       "      <td>245</td>\n",
       "      <td>3.21</td>\n",
       "      <td>3.570</td>\n",
       "      <td>15.84</td>\n",
       "      <td>0</td>\n",
       "      <td>0</td>\n",
       "      <td>3</td>\n",
       "      <td>4</td>\n",
       "      <td>14.3</td>\n",
       "    </tr>\n",
       "  </tbody>\n",
       "</table>\n",
       "</div>"
      ],
      "text/plain": [
       "    cyl   disp   hp  drat     wt   qsec  vs  am  gear  carb   mpg\n",
       "25    4   79.0   66  4.08  1.935  18.90   1   1     4     1  27.3\n",
       "12    8  275.8  180  3.07  3.730  17.60   0   0     3     3  17.3\n",
       "0     6  160.0  110  3.90  2.620  16.46   0   1     4     4  21.0\n",
       "4     8  360.0  175  3.15  3.440  17.02   0   0     3     2  18.7\n",
       "16    8  440.0  230  3.23  5.345  17.42   0   0     3     4  14.7\n",
       "5     6  225.0  105  2.76  3.460  20.22   1   0     3     1  18.1\n",
       "13    8  275.8  180  3.07  3.780  18.00   0   0     3     3  15.2\n",
       "11    8  275.8  180  3.07  4.070  17.40   0   0     3     3  16.4\n",
       "23    8  350.0  245  3.73  3.840  15.41   0   0     3     4  13.3\n",
       "1     6  160.0  110  3.90  2.875  17.02   0   1     4     4  21.0\n",
       "2     4  108.0   93  3.85  2.320  18.61   1   1     4     1  22.8\n",
       "26    4  120.3   91  4.43  2.140  16.70   0   1     5     2  26.0\n",
       "3     6  258.0  110  3.08  3.215  19.44   1   0     3     1  21.4\n",
       "21    8  318.0  150  2.76  3.520  16.87   0   0     3     2  15.5\n",
       "27    4   95.1  113  3.77  1.513  16.90   1   1     5     2  30.4\n",
       "22    8  304.0  150  3.15  3.435  17.30   0   0     3     2  15.2\n",
       "18    4   75.7   52  4.93  1.615  18.52   1   1     4     2  30.4\n",
       "31    4  121.0  109  4.11  2.780  18.60   1   1     4     2  21.4\n",
       "20    4  120.1   97  3.70  2.465  20.01   1   0     3     1  21.5\n",
       "7     4  146.7   62  3.69  3.190  20.00   1   0     4     2  24.4\n",
       "10    6  167.6  123  3.92  3.440  18.90   1   0     4     4  17.8\n",
       "14    8  472.0  205  2.93  5.250  17.98   0   0     3     4  10.4\n",
       "28    8  351.0  264  4.22  3.170  14.50   0   1     5     4  15.8\n",
       "19    4   71.1   65  4.22  1.835  19.90   1   1     4     1  33.9\n",
       "6     8  360.0  245  3.21  3.570  15.84   0   0     3     4  14.3"
      ]
     },
     "execution_count": 12,
     "metadata": {},
     "output_type": "execute_result"
    }
   ],
   "source": [
    "train_data"
   ]
  },
  {
   "cell_type": "code",
   "execution_count": 13,
   "metadata": {},
   "outputs": [],
   "source": [
    "test_data = pd.concat([x_test, y_test], axis='columns',\n",
    "                       names=['cyl', 'disp', 'hp', 'drat', 'wt', 'qsec', 'vs', 'am', 'gear', 'carb', 'mpg'])"
   ]
  },
  {
   "cell_type": "code",
   "execution_count": 14,
   "metadata": {},
   "outputs": [
    {
     "data": {
      "text/html": [
       "<div>\n",
       "<style scoped>\n",
       "    .dataframe tbody tr th:only-of-type {\n",
       "        vertical-align: middle;\n",
       "    }\n",
       "\n",
       "    .dataframe tbody tr th {\n",
       "        vertical-align: top;\n",
       "    }\n",
       "\n",
       "    .dataframe thead th {\n",
       "        text-align: right;\n",
       "    }\n",
       "</style>\n",
       "<table border=\"1\" class=\"dataframe\">\n",
       "  <thead>\n",
       "    <tr style=\"text-align: right;\">\n",
       "      <th></th>\n",
       "      <th>cyl</th>\n",
       "      <th>disp</th>\n",
       "      <th>hp</th>\n",
       "      <th>drat</th>\n",
       "      <th>wt</th>\n",
       "      <th>qsec</th>\n",
       "      <th>vs</th>\n",
       "      <th>am</th>\n",
       "      <th>gear</th>\n",
       "      <th>carb</th>\n",
       "      <th>mpg</th>\n",
       "    </tr>\n",
       "  </thead>\n",
       "  <tbody>\n",
       "    <tr>\n",
       "      <th>29</th>\n",
       "      <td>6</td>\n",
       "      <td>145.0</td>\n",
       "      <td>175</td>\n",
       "      <td>3.62</td>\n",
       "      <td>2.770</td>\n",
       "      <td>15.50</td>\n",
       "      <td>0</td>\n",
       "      <td>1</td>\n",
       "      <td>5</td>\n",
       "      <td>6</td>\n",
       "      <td>19.7</td>\n",
       "    </tr>\n",
       "    <tr>\n",
       "      <th>15</th>\n",
       "      <td>8</td>\n",
       "      <td>460.0</td>\n",
       "      <td>215</td>\n",
       "      <td>3.00</td>\n",
       "      <td>5.424</td>\n",
       "      <td>17.82</td>\n",
       "      <td>0</td>\n",
       "      <td>0</td>\n",
       "      <td>3</td>\n",
       "      <td>4</td>\n",
       "      <td>10.4</td>\n",
       "    </tr>\n",
       "    <tr>\n",
       "      <th>24</th>\n",
       "      <td>8</td>\n",
       "      <td>400.0</td>\n",
       "      <td>175</td>\n",
       "      <td>3.08</td>\n",
       "      <td>3.845</td>\n",
       "      <td>17.05</td>\n",
       "      <td>0</td>\n",
       "      <td>0</td>\n",
       "      <td>3</td>\n",
       "      <td>2</td>\n",
       "      <td>19.2</td>\n",
       "    </tr>\n",
       "    <tr>\n",
       "      <th>17</th>\n",
       "      <td>4</td>\n",
       "      <td>78.7</td>\n",
       "      <td>66</td>\n",
       "      <td>4.08</td>\n",
       "      <td>2.200</td>\n",
       "      <td>19.47</td>\n",
       "      <td>1</td>\n",
       "      <td>1</td>\n",
       "      <td>4</td>\n",
       "      <td>1</td>\n",
       "      <td>32.4</td>\n",
       "    </tr>\n",
       "    <tr>\n",
       "      <th>8</th>\n",
       "      <td>4</td>\n",
       "      <td>140.8</td>\n",
       "      <td>95</td>\n",
       "      <td>3.92</td>\n",
       "      <td>3.150</td>\n",
       "      <td>22.90</td>\n",
       "      <td>1</td>\n",
       "      <td>0</td>\n",
       "      <td>4</td>\n",
       "      <td>2</td>\n",
       "      <td>22.8</td>\n",
       "    </tr>\n",
       "    <tr>\n",
       "      <th>9</th>\n",
       "      <td>6</td>\n",
       "      <td>167.6</td>\n",
       "      <td>123</td>\n",
       "      <td>3.92</td>\n",
       "      <td>3.440</td>\n",
       "      <td>18.30</td>\n",
       "      <td>1</td>\n",
       "      <td>0</td>\n",
       "      <td>4</td>\n",
       "      <td>4</td>\n",
       "      <td>19.2</td>\n",
       "    </tr>\n",
       "    <tr>\n",
       "      <th>30</th>\n",
       "      <td>8</td>\n",
       "      <td>301.0</td>\n",
       "      <td>335</td>\n",
       "      <td>3.54</td>\n",
       "      <td>3.570</td>\n",
       "      <td>14.60</td>\n",
       "      <td>0</td>\n",
       "      <td>1</td>\n",
       "      <td>5</td>\n",
       "      <td>8</td>\n",
       "      <td>15.0</td>\n",
       "    </tr>\n",
       "  </tbody>\n",
       "</table>\n",
       "</div>"
      ],
      "text/plain": [
       "    cyl   disp   hp  drat     wt   qsec  vs  am  gear  carb   mpg\n",
       "29    6  145.0  175  3.62  2.770  15.50   0   1     5     6  19.7\n",
       "15    8  460.0  215  3.00  5.424  17.82   0   0     3     4  10.4\n",
       "24    8  400.0  175  3.08  3.845  17.05   0   0     3     2  19.2\n",
       "17    4   78.7   66  4.08  2.200  19.47   1   1     4     1  32.4\n",
       "8     4  140.8   95  3.92  3.150  22.90   1   0     4     2  22.8\n",
       "9     6  167.6  123  3.92  3.440  18.30   1   0     4     4  19.2\n",
       "30    8  301.0  335  3.54  3.570  14.60   0   1     5     8  15.0"
      ]
     },
     "execution_count": 14,
     "metadata": {},
     "output_type": "execute_result"
    }
   ],
   "source": [
    "test_data"
   ]
  },
  {
   "cell_type": "code",
   "execution_count": 15,
   "metadata": {},
   "outputs": [
    {
     "data": {
      "text/html": [
       "<div>\n",
       "<style scoped>\n",
       "    .dataframe tbody tr th:only-of-type {\n",
       "        vertical-align: middle;\n",
       "    }\n",
       "\n",
       "    .dataframe tbody tr th {\n",
       "        vertical-align: top;\n",
       "    }\n",
       "\n",
       "    .dataframe thead th {\n",
       "        text-align: right;\n",
       "    }\n",
       "</style>\n",
       "<table border=\"1\" class=\"dataframe\">\n",
       "  <thead>\n",
       "    <tr style=\"text-align: right;\">\n",
       "      <th></th>\n",
       "      <th>cyl</th>\n",
       "      <th>disp</th>\n",
       "      <th>hp</th>\n",
       "      <th>drat</th>\n",
       "      <th>wt</th>\n",
       "      <th>qsec</th>\n",
       "      <th>vs</th>\n",
       "      <th>am</th>\n",
       "      <th>gear</th>\n",
       "      <th>carb</th>\n",
       "      <th>mpg</th>\n",
       "    </tr>\n",
       "  </thead>\n",
       "  <tbody>\n",
       "    <tr>\n",
       "      <th>count</th>\n",
       "      <td>25.000000</td>\n",
       "      <td>25.00000</td>\n",
       "      <td>25.00000</td>\n",
       "      <td>25.000000</td>\n",
       "      <td>25.00000</td>\n",
       "      <td>25.000000</td>\n",
       "      <td>25.000000</td>\n",
       "      <td>25.0</td>\n",
       "      <td>25.000000</td>\n",
       "      <td>25.000000</td>\n",
       "      <td>25.000000</td>\n",
       "    </tr>\n",
       "    <tr>\n",
       "      <th>mean</th>\n",
       "      <td>6.160000</td>\n",
       "      <td>227.60000</td>\n",
       "      <td>140.40000</td>\n",
       "      <td>3.597200</td>\n",
       "      <td>3.14212</td>\n",
       "      <td>17.820800</td>\n",
       "      <td>0.440000</td>\n",
       "      <td>0.4</td>\n",
       "      <td>3.600000</td>\n",
       "      <td>2.520000</td>\n",
       "      <td>20.168000</td>\n",
       "    </tr>\n",
       "    <tr>\n",
       "      <th>std</th>\n",
       "      <td>1.818424</td>\n",
       "      <td>120.28601</td>\n",
       "      <td>62.33779</td>\n",
       "      <td>0.569828</td>\n",
       "      <td>0.97597</td>\n",
       "      <td>1.498771</td>\n",
       "      <td>0.506623</td>\n",
       "      <td>0.5</td>\n",
       "      <td>0.707107</td>\n",
       "      <td>1.194432</td>\n",
       "      <td>5.935326</td>\n",
       "    </tr>\n",
       "    <tr>\n",
       "      <th>min</th>\n",
       "      <td>4.000000</td>\n",
       "      <td>71.10000</td>\n",
       "      <td>52.00000</td>\n",
       "      <td>2.760000</td>\n",
       "      <td>1.51300</td>\n",
       "      <td>14.500000</td>\n",
       "      <td>0.000000</td>\n",
       "      <td>0.0</td>\n",
       "      <td>3.000000</td>\n",
       "      <td>1.000000</td>\n",
       "      <td>10.400000</td>\n",
       "    </tr>\n",
       "    <tr>\n",
       "      <th>25%</th>\n",
       "      <td>4.000000</td>\n",
       "      <td>120.30000</td>\n",
       "      <td>97.00000</td>\n",
       "      <td>3.080000</td>\n",
       "      <td>2.46500</td>\n",
       "      <td>16.900000</td>\n",
       "      <td>0.000000</td>\n",
       "      <td>0.0</td>\n",
       "      <td>3.000000</td>\n",
       "      <td>2.000000</td>\n",
       "      <td>15.500000</td>\n",
       "    </tr>\n",
       "    <tr>\n",
       "      <th>50%</th>\n",
       "      <td>6.000000</td>\n",
       "      <td>225.00000</td>\n",
       "      <td>113.00000</td>\n",
       "      <td>3.700000</td>\n",
       "      <td>3.21500</td>\n",
       "      <td>17.600000</td>\n",
       "      <td>0.000000</td>\n",
       "      <td>0.0</td>\n",
       "      <td>3.000000</td>\n",
       "      <td>2.000000</td>\n",
       "      <td>18.700000</td>\n",
       "    </tr>\n",
       "    <tr>\n",
       "      <th>75%</th>\n",
       "      <td>8.000000</td>\n",
       "      <td>318.00000</td>\n",
       "      <td>180.00000</td>\n",
       "      <td>3.920000</td>\n",
       "      <td>3.57000</td>\n",
       "      <td>18.900000</td>\n",
       "      <td>1.000000</td>\n",
       "      <td>1.0</td>\n",
       "      <td>4.000000</td>\n",
       "      <td>4.000000</td>\n",
       "      <td>22.800000</td>\n",
       "    </tr>\n",
       "    <tr>\n",
       "      <th>max</th>\n",
       "      <td>8.000000</td>\n",
       "      <td>472.00000</td>\n",
       "      <td>264.00000</td>\n",
       "      <td>4.930000</td>\n",
       "      <td>5.34500</td>\n",
       "      <td>20.220000</td>\n",
       "      <td>1.000000</td>\n",
       "      <td>1.0</td>\n",
       "      <td>5.000000</td>\n",
       "      <td>4.000000</td>\n",
       "      <td>33.900000</td>\n",
       "    </tr>\n",
       "  </tbody>\n",
       "</table>\n",
       "</div>"
      ],
      "text/plain": [
       "             cyl       disp         hp       drat        wt       qsec  \\\n",
       "count  25.000000   25.00000   25.00000  25.000000  25.00000  25.000000   \n",
       "mean    6.160000  227.60000  140.40000   3.597200   3.14212  17.820800   \n",
       "std     1.818424  120.28601   62.33779   0.569828   0.97597   1.498771   \n",
       "min     4.000000   71.10000   52.00000   2.760000   1.51300  14.500000   \n",
       "25%     4.000000  120.30000   97.00000   3.080000   2.46500  16.900000   \n",
       "50%     6.000000  225.00000  113.00000   3.700000   3.21500  17.600000   \n",
       "75%     8.000000  318.00000  180.00000   3.920000   3.57000  18.900000   \n",
       "max     8.000000  472.00000  264.00000   4.930000   5.34500  20.220000   \n",
       "\n",
       "              vs    am       gear       carb        mpg  \n",
       "count  25.000000  25.0  25.000000  25.000000  25.000000  \n",
       "mean    0.440000   0.4   3.600000   2.520000  20.168000  \n",
       "std     0.506623   0.5   0.707107   1.194432   5.935326  \n",
       "min     0.000000   0.0   3.000000   1.000000  10.400000  \n",
       "25%     0.000000   0.0   3.000000   2.000000  15.500000  \n",
       "50%     0.000000   0.0   3.000000   2.000000  18.700000  \n",
       "75%     1.000000   1.0   4.000000   4.000000  22.800000  \n",
       "max     1.000000   1.0   5.000000   4.000000  33.900000  "
      ]
     },
     "execution_count": 15,
     "metadata": {},
     "output_type": "execute_result"
    }
   ],
   "source": [
    "train_data.describe()"
   ]
  },
  {
   "cell_type": "code",
   "execution_count": 16,
   "metadata": {},
   "outputs": [
    {
     "data": {
      "text/html": [
       "<div>\n",
       "<style scoped>\n",
       "    .dataframe tbody tr th:only-of-type {\n",
       "        vertical-align: middle;\n",
       "    }\n",
       "\n",
       "    .dataframe tbody tr th {\n",
       "        vertical-align: top;\n",
       "    }\n",
       "\n",
       "    .dataframe thead th {\n",
       "        text-align: right;\n",
       "    }\n",
       "</style>\n",
       "<table border=\"1\" class=\"dataframe\">\n",
       "  <thead>\n",
       "    <tr style=\"text-align: right;\">\n",
       "      <th></th>\n",
       "      <th>cyl</th>\n",
       "      <th>disp</th>\n",
       "      <th>hp</th>\n",
       "      <th>drat</th>\n",
       "      <th>wt</th>\n",
       "      <th>qsec</th>\n",
       "      <th>vs</th>\n",
       "      <th>am</th>\n",
       "      <th>gear</th>\n",
       "      <th>carb</th>\n",
       "      <th>mpg</th>\n",
       "    </tr>\n",
       "  </thead>\n",
       "  <tbody>\n",
       "    <tr>\n",
       "      <th>cyl</th>\n",
       "      <td>1.000000</td>\n",
       "      <td>0.910631</td>\n",
       "      <td>0.863941</td>\n",
       "      <td>-0.674297</td>\n",
       "      <td>0.801661</td>\n",
       "      <td>-0.563880</td>\n",
       "      <td>-0.803252</td>\n",
       "      <td>-0.623250</td>\n",
       "      <td>-0.596247</td>\n",
       "      <td>0.612344</td>\n",
       "      <td>-0.861952</td>\n",
       "    </tr>\n",
       "    <tr>\n",
       "      <th>disp</th>\n",
       "      <td>0.910631</td>\n",
       "      <td>1.000000</td>\n",
       "      <td>0.879044</td>\n",
       "      <td>-0.672173</td>\n",
       "      <td>0.890991</td>\n",
       "      <td>-0.481155</td>\n",
       "      <td>-0.708556</td>\n",
       "      <td>-0.647623</td>\n",
       "      <td>-0.583985</td>\n",
       "      <td>0.559313</td>\n",
       "      <td>-0.867513</td>\n",
       "    </tr>\n",
       "    <tr>\n",
       "      <th>hp</th>\n",
       "      <td>0.863941</td>\n",
       "      <td>0.879044</td>\n",
       "      <td>1.000000</td>\n",
       "      <td>-0.447063</td>\n",
       "      <td>0.722935</td>\n",
       "      <td>-0.708559</td>\n",
       "      <td>-0.724839</td>\n",
       "      <td>-0.442482</td>\n",
       "      <td>-0.359200</td>\n",
       "      <td>0.695468</td>\n",
       "      <td>-0.806484</td>\n",
       "    </tr>\n",
       "    <tr>\n",
       "      <th>drat</th>\n",
       "      <td>-0.674297</td>\n",
       "      <td>-0.672173</td>\n",
       "      <td>-0.447063</td>\n",
       "      <td>1.000000</td>\n",
       "      <td>-0.707299</td>\n",
       "      <td>-0.020498</td>\n",
       "      <td>0.366717</td>\n",
       "      <td>0.795269</td>\n",
       "      <td>0.773709</td>\n",
       "      <td>-0.071234</td>\n",
       "      <td>0.677420</td>\n",
       "    </tr>\n",
       "    <tr>\n",
       "      <th>wt</th>\n",
       "      <td>0.801661</td>\n",
       "      <td>0.890991</td>\n",
       "      <td>0.722935</td>\n",
       "      <td>-0.707299</td>\n",
       "      <td>1.000000</td>\n",
       "      <td>-0.198645</td>\n",
       "      <td>-0.572634</td>\n",
       "      <td>-0.735866</td>\n",
       "      <td>-0.656642</td>\n",
       "      <td>0.561967</td>\n",
       "      <td>-0.877575</td>\n",
       "    </tr>\n",
       "    <tr>\n",
       "      <th>qsec</th>\n",
       "      <td>-0.563880</td>\n",
       "      <td>-0.481155</td>\n",
       "      <td>-0.708559</td>\n",
       "      <td>-0.020498</td>\n",
       "      <td>-0.198645</td>\n",
       "      <td>1.000000</td>\n",
       "      <td>0.766659</td>\n",
       "      <td>-0.116651</td>\n",
       "      <td>-0.165205</td>\n",
       "      <td>-0.667773</td>\n",
       "      <td>0.412895</td>\n",
       "    </tr>\n",
       "    <tr>\n",
       "      <th>vs</th>\n",
       "      <td>-0.803252</td>\n",
       "      <td>-0.708556</td>\n",
       "      <td>-0.724839</td>\n",
       "      <td>0.366717</td>\n",
       "      <td>-0.572634</td>\n",
       "      <td>0.766659</td>\n",
       "      <td>1.000000</td>\n",
       "      <td>0.263181</td>\n",
       "      <td>0.279145</td>\n",
       "      <td>-0.669282</td>\n",
       "      <td>0.658913</td>\n",
       "    </tr>\n",
       "    <tr>\n",
       "      <th>am</th>\n",
       "      <td>-0.623250</td>\n",
       "      <td>-0.647623</td>\n",
       "      <td>-0.442482</td>\n",
       "      <td>0.795269</td>\n",
       "      <td>-0.735866</td>\n",
       "      <td>-0.116651</td>\n",
       "      <td>0.263181</td>\n",
       "      <td>1.000000</td>\n",
       "      <td>0.824958</td>\n",
       "      <td>-0.153490</td>\n",
       "      <td>0.678424</td>\n",
       "    </tr>\n",
       "    <tr>\n",
       "      <th>gear</th>\n",
       "      <td>-0.596247</td>\n",
       "      <td>-0.583985</td>\n",
       "      <td>-0.359200</td>\n",
       "      <td>0.773709</td>\n",
       "      <td>-0.656642</td>\n",
       "      <td>-0.165205</td>\n",
       "      <td>0.279145</td>\n",
       "      <td>0.824958</td>\n",
       "      <td>1.000000</td>\n",
       "      <td>-0.039467</td>\n",
       "      <td>0.614341</td>\n",
       "    </tr>\n",
       "    <tr>\n",
       "      <th>carb</th>\n",
       "      <td>0.612344</td>\n",
       "      <td>0.559313</td>\n",
       "      <td>0.695468</td>\n",
       "      <td>-0.071234</td>\n",
       "      <td>0.561967</td>\n",
       "      <td>-0.667773</td>\n",
       "      <td>-0.669282</td>\n",
       "      <td>-0.153490</td>\n",
       "      <td>-0.039467</td>\n",
       "      <td>1.000000</td>\n",
       "      <td>-0.597634</td>\n",
       "    </tr>\n",
       "    <tr>\n",
       "      <th>mpg</th>\n",
       "      <td>-0.861952</td>\n",
       "      <td>-0.867513</td>\n",
       "      <td>-0.806484</td>\n",
       "      <td>0.677420</td>\n",
       "      <td>-0.877575</td>\n",
       "      <td>0.412895</td>\n",
       "      <td>0.658913</td>\n",
       "      <td>0.678424</td>\n",
       "      <td>0.614341</td>\n",
       "      <td>-0.597634</td>\n",
       "      <td>1.000000</td>\n",
       "    </tr>\n",
       "  </tbody>\n",
       "</table>\n",
       "</div>"
      ],
      "text/plain": [
       "           cyl      disp        hp      drat        wt      qsec        vs  \\\n",
       "cyl   1.000000  0.910631  0.863941 -0.674297  0.801661 -0.563880 -0.803252   \n",
       "disp  0.910631  1.000000  0.879044 -0.672173  0.890991 -0.481155 -0.708556   \n",
       "hp    0.863941  0.879044  1.000000 -0.447063  0.722935 -0.708559 -0.724839   \n",
       "drat -0.674297 -0.672173 -0.447063  1.000000 -0.707299 -0.020498  0.366717   \n",
       "wt    0.801661  0.890991  0.722935 -0.707299  1.000000 -0.198645 -0.572634   \n",
       "qsec -0.563880 -0.481155 -0.708559 -0.020498 -0.198645  1.000000  0.766659   \n",
       "vs   -0.803252 -0.708556 -0.724839  0.366717 -0.572634  0.766659  1.000000   \n",
       "am   -0.623250 -0.647623 -0.442482  0.795269 -0.735866 -0.116651  0.263181   \n",
       "gear -0.596247 -0.583985 -0.359200  0.773709 -0.656642 -0.165205  0.279145   \n",
       "carb  0.612344  0.559313  0.695468 -0.071234  0.561967 -0.667773 -0.669282   \n",
       "mpg  -0.861952 -0.867513 -0.806484  0.677420 -0.877575  0.412895  0.658913   \n",
       "\n",
       "            am      gear      carb       mpg  \n",
       "cyl  -0.623250 -0.596247  0.612344 -0.861952  \n",
       "disp -0.647623 -0.583985  0.559313 -0.867513  \n",
       "hp   -0.442482 -0.359200  0.695468 -0.806484  \n",
       "drat  0.795269  0.773709 -0.071234  0.677420  \n",
       "wt   -0.735866 -0.656642  0.561967 -0.877575  \n",
       "qsec -0.116651 -0.165205 -0.667773  0.412895  \n",
       "vs    0.263181  0.279145 -0.669282  0.658913  \n",
       "am    1.000000  0.824958 -0.153490  0.678424  \n",
       "gear  0.824958  1.000000 -0.039467  0.614341  \n",
       "carb -0.153490 -0.039467  1.000000 -0.597634  \n",
       "mpg   0.678424  0.614341 -0.597634  1.000000  "
      ]
     },
     "execution_count": 16,
     "metadata": {},
     "output_type": "execute_result"
    }
   ],
   "source": [
    "corr_mat = train_data.corr(method='pearson')\n",
    "corr_mat"
   ]
  },
  {
   "cell_type": "code",
   "execution_count": 17,
   "metadata": {},
   "outputs": [
    {
     "data": {
      "image/png": "[encoded data removed]",
      "text/plain": [
       "<Figure size 288x288 with 2 Axes>"
      ]
     },
     "metadata": {
      "needs_background": "light"
     },
     "output_type": "display_data"
    }
   ],
   "source": [
    "# Visualize the correlation matrix\n",
    "plt.matshow(corr_mat)\n",
    "plt.xticks(range(len(corr_mat.columns)), corr_mat.columns, rotation=90)\n",
    "plt.yticks(range(len(corr_mat.columns)), corr_mat.columns)\n",
    "plt.colorbar()\n",
    "plt.show()"
   ]
  },
  {
   "cell_type": "code",
   "execution_count": 18,
   "metadata": {},
   "outputs": [
    {
     "data": {
      "text/plain": [
       "[]"
      ]
     },
     "execution_count": 18,
     "metadata": {},
     "output_type": "execute_result"
    },
    {
     "data": {
      "image/png": "[encoded data removed]",
      "text/plain": [
       "<Figure size 432x288 with 1 Axes>"
      ]
     },
     "metadata": {
      "needs_background": "light"
     },
     "output_type": "display_data"
    }
   ],
   "source": [
    "plt.scatter(x_train['cyl'], y_train)\n",
    "plt.title(\"mpg vs cyl\")\n",
    "plt.xlabel(\"cyl\")\n",
    "plt.ylabel(\"mpg\")\n",
    "plt.plot()"
   ]
  },
  {
   "cell_type": "code",
   "execution_count": 19,
   "metadata": {},
   "outputs": [
    {
     "data": {
      "text/plain": [
       "[]"
      ]
     },
     "execution_count": 19,
     "metadata": {},
     "output_type": "execute_result"
    },
    {
     "data": {
      "image/png": "[encoded data removed]",
      "text/plain": [
       "<Figure size 432x288 with 1 Axes>"
      ]
     },
     "metadata": {
      "needs_background": "light"
     },
     "output_type": "display_data"
    }
   ],
   "source": [
    "plt.scatter(x_train['disp'], y_train)\n",
    "plt.title(\"mpg vs disp\")\n",
    "plt.xlabel(\"disp\")\n",
    "plt.ylabel(\"mpg\")\n",
    "plt.plot()"
   ]
  },
  {
   "cell_type": "code",
   "execution_count": 20,
   "metadata": {},
   "outputs": [
    {
     "data": {
      "text/plain": [
       "[]"
      ]
     },
     "execution_count": 20,
     "metadata": {},
     "output_type": "execute_result"
    },
    {
     "data": {
      "image/png": "[encoded data removed]",
      "text/plain": [
       "<Figure size 432x288 with 1 Axes>"
      ]
     },
     "metadata": {
      "needs_background": "light"
     },
     "output_type": "display_data"
    }
   ],
   "source": [
    "plt.scatter(x_train['hp'], y_train)\n",
    "plt.title(\"mpg vs hp\")\n",
    "plt.xlabel(\"hp\")\n",
    "plt.ylabel(\"mpg\")\n",
    "plt.plot()"
   ]
  },
  {
   "cell_type": "code",
   "execution_count": 21,
   "metadata": {},
   "outputs": [
    {
     "data": {
      "text/plain": [
       "[]"
      ]
     },
     "execution_count": 21,
     "metadata": {},
     "output_type": "execute_result"
    },
    {
     "data": {
      "image/png": "[encoded data removed]",
      "text/plain": [
       "<Figure size 432x288 with 1 Axes>"
      ]
     },
     "metadata": {
      "needs_background": "light"
     },
     "output_type": "display_data"
    }
   ],
   "source": [
    "plt.scatter(x_train['drat'], y_train)\n",
    "plt.title(\"mpg vs drat\")\n",
    "plt.xlabel(\"drat\")\n",
    "plt.ylabel(\"mpg\")\n",
    "plt.plot()"
   ]
  },
  {
   "cell_type": "code",
   "execution_count": 22,
   "metadata": {},
   "outputs": [
    {
     "data": {
      "text/plain": [
       "[]"
      ]
     },
     "execution_count": 22,
     "metadata": {},
     "output_type": "execute_result"
    },
    {
     "data": {
      "image/png": "[encoded data removed]",
      "text/plain": [
       "<Figure size 432x288 with 1 Axes>"
      ]
     },
     "metadata": {
      "needs_background": "light"
     },
     "output_type": "display_data"
    }
   ],
   "source": [
    "plt.scatter(x_train['wt'], y_train)\n",
    "plt.title(\"mpg vs wt\")\n",
    "plt.xlabel(\"wt\")\n",
    "plt.ylabel(\"mpg\")\n",
    "plt.plot()"
   ]
  },
  {
   "cell_type": "code",
   "execution_count": 23,
   "metadata": {},
   "outputs": [
    {
     "data": {
      "text/plain": [
       "[]"
      ]
     },
     "execution_count": 23,
     "metadata": {},
     "output_type": "execute_result"
    },
    {
     "data": {
      "image/png": "[encoded data removed]",
      "text/plain": [
       "<Figure size 432x288 with 1 Axes>"
      ]
     },
     "metadata": {
      "needs_background": "light"
     },
     "output_type": "display_data"
    }
   ],
   "source": [
    "plt.scatter(x_train['qsec'], y_train)\n",
    "plt.title(\"mpg vs qsec\")\n",
    "plt.xlabel(\"qsec\")\n",
    "plt.ylabel(\"mpg\")\n",
    "plt.plot()"
   ]
  },
  {
   "cell_type": "code",
   "execution_count": 24,
   "metadata": {},
   "outputs": [
    {
     "data": {
      "text/plain": [
       "[]"
      ]
     },
     "execution_count": 24,
     "metadata": {},
     "output_type": "execute_result"
    },
    {
     "data": {
      "image/png": "[encoded data removed]",
      "text/plain": [
       "<Figure size 432x288 with 1 Axes>"
      ]
     },
     "metadata": {
      "needs_background": "light"
     },
     "output_type": "display_data"
    }
   ],
   "source": [
    "plt.scatter(x_train['vs'], y_train)\n",
    "plt.title(\"mpg vs v-shape(vs)\")\n",
    "plt.xlabel(\"vs\")\n",
    "plt.ylabel(\"mpg\")\n",
    "plt.plot()"
   ]
  },
  {
   "cell_type": "code",
   "execution_count": 25,
   "metadata": {},
   "outputs": [
    {
     "data": {
      "text/plain": [
       "[]"
      ]
     },
     "execution_count": 25,
     "metadata": {},
     "output_type": "execute_result"
    },
    {
     "data": {
      "image/png": "[encoded data removed]",
      "text/plain": [
       "<Figure size 432x288 with 1 Axes>"
      ]
     },
     "metadata": {
      "needs_background": "light"
     },
     "output_type": "display_data"
    }
   ],
   "source": [
    "plt.scatter(x_train['am'], y_train)\n",
    "plt.title(\"mpg vs am\")\n",
    "plt.xlabel(\"am\")\n",
    "plt.ylabel(\"mpg\")\n",
    "plt.plot()"
   ]
  },
  {
   "cell_type": "code",
   "execution_count": 26,
   "metadata": {},
   "outputs": [
    {
     "data": {
      "text/plain": [
       "[]"
      ]
     },
     "execution_count": 26,
     "metadata": {},
     "output_type": "execute_result"
    },
    {
     "data": {
      "image/png": "[encoded data removed]",
      "text/plain": [
       "<Figure size 432x288 with 1 Axes>"
      ]
     },
     "metadata": {
      "needs_background": "light"
     },
     "output_type": "display_data"
    }
   ],
   "source": [
    "plt.scatter(x_train['gear'], y_train)\n",
    "plt.title(\"mpg vs gear\")\n",
    "plt.xlabel(\"gear\")\n",
    "plt.ylabel(\"mpg\")\n",
    "plt.plot()"
   ]
  },
  {
   "cell_type": "code",
   "execution_count": 27,
   "metadata": {},
   "outputs": [
    {
     "data": {
      "text/plain": [
       "[]"
      ]
     },
     "execution_count": 27,
     "metadata": {},
     "output_type": "execute_result"
    },
    {
     "data": {
      "image/png": "[encoded data removed]",
      "text/plain": [
       "<Figure size 432x288 with 1 Axes>"
      ]
     },
     "metadata": {
      "needs_background": "light"
     },
     "output_type": "display_data"
    }
   ],
   "source": [
    "plt.scatter(x_train['carb'], y_train)\n",
    "plt.title(\"mpg vs carb\")\n",
    "plt.xlabel(\"carb\")\n",
    "plt.ylabel(\"mpg\")\n",
    "plt.plot()"
   ]
  },
  {
   "cell_type": "code",
   "execution_count": 28,
   "metadata": {},
   "outputs": [],
   "source": [
    "# Model Building: Training and Testing\n",
    "from sklearn.linear_model import LinearRegression\n",
    "model = LinearRegression()\n",
    "model.fit(x_train, y_train)\n",
    "y_pred_train = model.predict(x_train)\n",
    "y_pred_test = model.predict(x_test)"
   ]
  },
  {
   "cell_type": "code",
   "execution_count": 29,
   "metadata": {},
   "outputs": [
    {
     "data": {
      "text/plain": [
       "array([27.39049768, 15.70105242, 21.87895895, 17.56562387, 10.3566258 ,\n",
       "       20.02980825, 16.19433136, 13.67976942, 12.68424241, 21.6700726 ,\n",
       "       25.02876011, 26.62459558, 20.66251034, 15.97812991, 26.7722456 ,\n",
       "       17.31748831, 29.3183077 , 23.26753774, 24.53060883, 23.27102515,\n",
       "       19.40590412, 12.37227519, 18.32622956, 29.72279449, 14.45060462])"
      ]
     },
     "execution_count": 29,
     "metadata": {},
     "output_type": "execute_result"
    }
   ],
   "source": [
    "y_pred_train"
   ]
  },
  {
   "cell_type": "code",
   "execution_count": 30,
   "metadata": {},
   "outputs": [
    {
     "data": {
      "text/plain": [
       "array([19.83092709, 10.98714165, 16.3140211 , 27.14590717, 28.61321199,\n",
       "       18.30133293, 14.88251095])"
      ]
     },
     "execution_count": 30,
     "metadata": {},
     "output_type": "execute_result"
    }
   ],
   "source": [
    "y_pred_test"
   ]
  },
  {
   "cell_type": "code",
   "execution_count": 31,
   "metadata": {},
   "outputs": [
    {
     "name": "stdout",
     "output_type": "stream",
     "text": [
      "Evaluation metrics: Train Data\n",
      "Mean absolute error:  1.6932642245436293\n",
      "Mean squared error :  4.225736165556229\n",
      "R-squared score    :  0.8750483703126839\n"
     ]
    }
   ],
   "source": [
    "# Evaluate the model using commonly used metrics\n",
    "from sklearn.metrics import mean_squared_error, mean_absolute_error, r2_score\n",
    "mse_train = mean_squared_error(y_train, y_pred_train)\n",
    "mae_train = mean_absolute_error(y_train, y_pred_train)\n",
    "r2_train = r2_score(y_train, y_pred_train)\n",
    "\n",
    "# Print the evaluation metrics on train data\n",
    "print(\"Evaluation metrics: Train Data\")\n",
    "print(\"Mean absolute error: \", mae_train)\n",
    "print(\"Mean squared error : \", mse_train)\n",
    "print(\"R-squared score    : \", r2_train)"
   ]
  },
  {
   "cell_type": "code",
   "execution_count": 32,
   "metadata": {},
   "outputs": [
    {
     "name": "stdout",
     "output_type": "stream",
     "text": [
      "Evaluation metrics: Test Data\n",
      "Mean absolute error:  2.241072653667489\n",
      "Mean squared error :  10.130154667787266\n",
      "R-squared score    :  0.7466453084791007\n"
     ]
    }
   ],
   "source": [
    "mse_test = mean_squared_error(y_test, y_pred_test)\n",
    "mae_test = mean_absolute_error(y_test, y_pred_test)\n",
    "r2_test = r2_score(y_test, y_pred_test)\n",
    "\n",
    "# Print the evaluation metrics on train data\n",
    "print(\"Evaluation metrics: Test Data\")\n",
    "print(\"Mean absolute error: \", mae_test)\n",
    "print(\"Mean squared error : \", mse_test)\n",
    "print(\"R-squared score    : \", r2_test)"
   ]
  },
  {
   "cell_type": "code",
   "execution_count": 33,
   "metadata": {},
   "outputs": [
    {
     "name": "stdout",
     "output_type": "stream",
     "text": [
      "Model coefficients    :  [-0.4762499   0.01831107 -0.00950031  1.00213048 -4.86203707  1.84095198\n",
      " -1.93718579  1.07662425  1.32710759  0.14713125]\n",
      "Corresponding features:  ['cyl' 'disp' 'hp' 'drat' 'wt' 'qsec' 'vs' 'am' 'gear' 'carb']\n"
     ]
    }
   ],
   "source": [
    "print(\"Model coefficients    : \", model.coef_)\n",
    "print(\"Corresponding features: \", features.columns.values)"
   ]
  },
  {
   "cell_type": "code",
   "execution_count": 34,
   "metadata": {},
   "outputs": [
    {
     "name": "stdout",
     "output_type": "stream",
     "text": [
      "Input features:\n",
      "    cyl   disp     hp  drat   wt  qsec  vs  am  gear  carb\n",
      "0    5  455.0  250.0   3.0  5.0  21.0   1   0     4     6\n",
      "Predicted mpg : [19.59174062]\n"
     ]
    }
   ],
   "source": [
    "def predict_mpg():\n",
    "    cyl  = int(input(\"Enter cyl(int) in range(4-10):\"))\n",
    "    disp = float(input(\"Enter disp(float) in range(50-500):\"))\n",
    "    hp   = float(input(\"Enter hp(float) in range(50-400):\"))\n",
    "    drat = float(input(\"Enter drat(float) in range(2-5) :\"))\n",
    "    wt   = float(input(\"Enter wt(float) in range(1-6):\"))\n",
    "    qsec = float(input(\"Enter qsec(float) in range(10-25):\"))\n",
    "    vs   = int(input(\"Enter vs(int) in range(0,1):\"))\n",
    "    am   = int(input(\"Enter am(int) in range(0,1):\"))\n",
    "    gear = int(input(\"Enter gear(int) in range(3-5):\"))\n",
    "    carb = int(input(\"Enter carb(int) in range(1-8):\"))\n",
    "\n",
    "    new_data = pd.DataFrame({\n",
    "        'cyl' : [cyl],\n",
    "        'disp': [disp],\n",
    "        'hp'  : [hp],\n",
    "        'drat': [drat],\n",
    "        'wt'  : [wt],\n",
    "        'qsec': [qsec],\n",
    "        'vs'  : [vs],\n",
    "        'am'  : [am],\n",
    "        'gear': [gear],\n",
    "        'carb': [carb]\n",
    "    })\n",
    "    pred_mpg = model.predict(new_data)\n",
    "    print(\"Input features:\\n\", new_data)\n",
    "    print(\"Predicted mpg :\", pred_mpg)\n",
    "\n",
    "predict_mpg()"
   ]
  },
  {
   "cell_type": "code",
   "execution_count": null,
   "metadata": {},
   "outputs": [],
   "source": []
  }
 ],
 "metadata": {
  "kernelspec": {
   "display_name": "Python 3",
   "language": "python",
   "name": "python3"
  },
  "language_info": {
   "codemirror_mode": {
    "name": "ipython",
    "version": 3
   },
   "file_extension": ".py",
   "mimetype": "text/x-python",
   "name": "python",
   "nbconvert_exporter": "python",
   "pygments_lexer": "ipython3",
   "version": "3.9.12"
  }
 },
 "nbformat": 4,
 "nbformat_minor": 2
}
