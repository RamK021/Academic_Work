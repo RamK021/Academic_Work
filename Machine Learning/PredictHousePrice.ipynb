{
 "cells": [
  {
   "cell_type": "markdown",
   "metadata": {},
   "source": [
    "**Objective:** Use the california housing data available in sklearn to predict the prices of houses."
   ]
  },
  {
   "cell_type": "code",
   "execution_count": 2,
   "metadata": {},
   "outputs": [],
   "source": [
    "import pandas as pd\n",
    "from sklearn.datasets import fetch_california_housing"
   ]
  },
  {
   "cell_type": "code",
   "execution_count": 14,
   "metadata": {},
   "outputs": [
    {
     "data": {
      "text/html": [
       "<div>\n",
       "<style scoped>\n",
       "    .dataframe tbody tr th:only-of-type {\n",
       "        vertical-align: middle;\n",
       "    }\n",
       "\n",
       "    .dataframe tbody tr th {\n",
       "        vertical-align: top;\n",
       "    }\n",
       "\n",
       "    .dataframe thead th {\n",
       "        text-align: right;\n",
       "    }\n",
       "</style>\n",
       "<table border=\"1\" class=\"dataframe\">\n",
       "  <thead>\n",
       "    <tr style=\"text-align: right;\">\n",
       "      <th></th>\n",
       "      <th>MedInc</th>\n",
       "      <th>HouseAge</th>\n",
       "      <th>AveRooms</th>\n",
       "      <th>AveBedrms</th>\n",
       "      <th>Population</th>\n",
       "      <th>AveOccup</th>\n",
       "      <th>Latitude</th>\n",
       "      <th>Longitude</th>\n",
       "    </tr>\n",
       "  </thead>\n",
       "  <tbody>\n",
       "    <tr>\n",
       "      <th>0</th>\n",
       "      <td>8.3252</td>\n",
       "      <td>41.0</td>\n",
       "      <td>6.984127</td>\n",
       "      <td>1.023810</td>\n",
       "      <td>322.0</td>\n",
       "      <td>2.555556</td>\n",
       "      <td>37.88</td>\n",
       "      <td>-122.23</td>\n",
       "    </tr>\n",
       "    <tr>\n",
       "      <th>1</th>\n",
       "      <td>8.3014</td>\n",
       "      <td>21.0</td>\n",
       "      <td>6.238137</td>\n",
       "      <td>0.971880</td>\n",
       "      <td>2401.0</td>\n",
       "      <td>2.109842</td>\n",
       "      <td>37.86</td>\n",
       "      <td>-122.22</td>\n",
       "    </tr>\n",
       "    <tr>\n",
       "      <th>2</th>\n",
       "      <td>7.2574</td>\n",
       "      <td>52.0</td>\n",
       "      <td>8.288136</td>\n",
       "      <td>1.073446</td>\n",
       "      <td>496.0</td>\n",
       "      <td>2.802260</td>\n",
       "      <td>37.85</td>\n",
       "      <td>-122.24</td>\n",
       "    </tr>\n",
       "    <tr>\n",
       "      <th>3</th>\n",
       "      <td>5.6431</td>\n",
       "      <td>52.0</td>\n",
       "      <td>5.817352</td>\n",
       "      <td>1.073059</td>\n",
       "      <td>558.0</td>\n",
       "      <td>2.547945</td>\n",
       "      <td>37.85</td>\n",
       "      <td>-122.25</td>\n",
       "    </tr>\n",
       "    <tr>\n",
       "      <th>4</th>\n",
       "      <td>3.8462</td>\n",
       "      <td>52.0</td>\n",
       "      <td>6.281853</td>\n",
       "      <td>1.081081</td>\n",
       "      <td>565.0</td>\n",
       "      <td>2.181467</td>\n",
       "      <td>37.85</td>\n",
       "      <td>-122.25</td>\n",
       "    </tr>\n",
       "    <tr>\n",
       "      <th>...</th>\n",
       "      <td>...</td>\n",
       "      <td>...</td>\n",
       "      <td>...</td>\n",
       "      <td>...</td>\n",
       "      <td>...</td>\n",
       "      <td>...</td>\n",
       "      <td>...</td>\n",
       "      <td>...</td>\n",
       "    </tr>\n",
       "    <tr>\n",
       "      <th>20635</th>\n",
       "      <td>1.5603</td>\n",
       "      <td>25.0</td>\n",
       "      <td>5.045455</td>\n",
       "      <td>1.133333</td>\n",
       "      <td>845.0</td>\n",
       "      <td>2.560606</td>\n",
       "      <td>39.48</td>\n",
       "      <td>-121.09</td>\n",
       "    </tr>\n",
       "    <tr>\n",
       "      <th>20636</th>\n",
       "      <td>2.5568</td>\n",
       "      <td>18.0</td>\n",
       "      <td>6.114035</td>\n",
       "      <td>1.315789</td>\n",
       "      <td>356.0</td>\n",
       "      <td>3.122807</td>\n",
       "      <td>39.49</td>\n",
       "      <td>-121.21</td>\n",
       "    </tr>\n",
       "    <tr>\n",
       "      <th>20637</th>\n",
       "      <td>1.7000</td>\n",
       "      <td>17.0</td>\n",
       "      <td>5.205543</td>\n",
       "      <td>1.120092</td>\n",
       "      <td>1007.0</td>\n",
       "      <td>2.325635</td>\n",
       "      <td>39.43</td>\n",
       "      <td>-121.22</td>\n",
       "    </tr>\n",
       "    <tr>\n",
       "      <th>20638</th>\n",
       "      <td>1.8672</td>\n",
       "      <td>18.0</td>\n",
       "      <td>5.329513</td>\n",
       "      <td>1.171920</td>\n",
       "      <td>741.0</td>\n",
       "      <td>2.123209</td>\n",
       "      <td>39.43</td>\n",
       "      <td>-121.32</td>\n",
       "    </tr>\n",
       "    <tr>\n",
       "      <th>20639</th>\n",
       "      <td>2.3886</td>\n",
       "      <td>16.0</td>\n",
       "      <td>5.254717</td>\n",
       "      <td>1.162264</td>\n",
       "      <td>1387.0</td>\n",
       "      <td>2.616981</td>\n",
       "      <td>39.37</td>\n",
       "      <td>-121.24</td>\n",
       "    </tr>\n",
       "  </tbody>\n",
       "</table>\n",
       "<p>20640 rows × 8 columns</p>\n",
       "</div>"
      ],
      "text/plain": [
       "       MedInc  HouseAge  AveRooms  AveBedrms  Population  AveOccup  Latitude  \\\n",
       "0      8.3252      41.0  6.984127   1.023810       322.0  2.555556     37.88   \n",
       "1      8.3014      21.0  6.238137   0.971880      2401.0  2.109842     37.86   \n",
       "2      7.2574      52.0  8.288136   1.073446       496.0  2.802260     37.85   \n",
       "3      5.6431      52.0  5.817352   1.073059       558.0  2.547945     37.85   \n",
       "4      3.8462      52.0  6.281853   1.081081       565.0  2.181467     37.85   \n",
       "...       ...       ...       ...        ...         ...       ...       ...   \n",
       "20635  1.5603      25.0  5.045455   1.133333       845.0  2.560606     39.48   \n",
       "20636  2.5568      18.0  6.114035   1.315789       356.0  3.122807     39.49   \n",
       "20637  1.7000      17.0  5.205543   1.120092      1007.0  2.325635     39.43   \n",
       "20638  1.8672      18.0  5.329513   1.171920       741.0  2.123209     39.43   \n",
       "20639  2.3886      16.0  5.254717   1.162264      1387.0  2.616981     39.37   \n",
       "\n",
       "       Longitude  \n",
       "0        -122.23  \n",
       "1        -122.22  \n",
       "2        -122.24  \n",
       "3        -122.25  \n",
       "4        -122.25  \n",
       "...          ...  \n",
       "20635    -121.09  \n",
       "20636    -121.21  \n",
       "20637    -121.22  \n",
       "20638    -121.32  \n",
       "20639    -121.24  \n",
       "\n",
       "[20640 rows x 8 columns]"
      ]
     },
     "execution_count": 14,
     "metadata": {},
     "output_type": "execute_result"
    }
   ],
   "source": [
    "data = fetch_california_housing()\n",
    "featureDF = pd.DataFrame(data.data, columns=data.feature_names)\n",
    "featureDF"
   ]
  },
  {
   "cell_type": "markdown",
   "metadata": {},
   "source": [
    "### California housing features:\n",
    "**MedInc**: This column represents the median income for households in a particular district. It is a measure of the income level of the residents in that area. This feature can be used as an indicator of the economic status of the district.\n",
    "\n",
    "**HouseAge**: This column represents the median age of houses in a district. It provides information about the age of the housing stock in the area, which can be relevant for understanding the condition and quality of housing.\n",
    "\n",
    "**AveRooms**: This column represents the average number of rooms in houses in the district. It indicates the typical size of houses in the area. This can be a factor in housing prices and occupancy.\n",
    "\n",
    "**AveBedrms**: This column represents the average number of bedrooms in houses in the district. It provides information about the typical number of bedrooms in the houses, which can be important for understanding household sizes.\n",
    "\n",
    "**Population**: This column represents the total population in the district. It is a measure of the density of the population in the area, which can impact various aspects of community services and housing demand.\n",
    "\n",
    "**AveOccup**: This column represents the average household occupancy. It is the ratio of the population to the number of households. This can provide insights into the average household size in the district.\n",
    "\n",
    "**Latitude**: This column represents the latitude of the district's location. Latitude is a geographical coordinate that specifies the north-south position of a point on the Earth's surface.\n",
    "\n",
    "**Longitude**: This column represents the longitude of the district's location. Longitude is a geographical coordinate that specifies the east-west position of a point on the Earth's surface."
   ]
  },
  {
   "cell_type": "code",
   "execution_count": 10,
   "metadata": {},
   "outputs": [
    {
     "data": {
      "text/html": [
       "<div>\n",
       "<style scoped>\n",
       "    .dataframe tbody tr th:only-of-type {\n",
       "        vertical-align: middle;\n",
       "    }\n",
       "\n",
       "    .dataframe tbody tr th {\n",
       "        vertical-align: top;\n",
       "    }\n",
       "\n",
       "    .dataframe thead th {\n",
       "        text-align: right;\n",
       "    }\n",
       "</style>\n",
       "<table border=\"1\" class=\"dataframe\">\n",
       "  <thead>\n",
       "    <tr style=\"text-align: right;\">\n",
       "      <th></th>\n",
       "      <th>MedHouseVal</th>\n",
       "    </tr>\n",
       "  </thead>\n",
       "  <tbody>\n",
       "    <tr>\n",
       "      <th>0</th>\n",
       "      <td>4.526</td>\n",
       "    </tr>\n",
       "    <tr>\n",
       "      <th>1</th>\n",
       "      <td>3.585</td>\n",
       "    </tr>\n",
       "    <tr>\n",
       "      <th>2</th>\n",
       "      <td>3.521</td>\n",
       "    </tr>\n",
       "    <tr>\n",
       "      <th>3</th>\n",
       "      <td>3.413</td>\n",
       "    </tr>\n",
       "    <tr>\n",
       "      <th>4</th>\n",
       "      <td>3.422</td>\n",
       "    </tr>\n",
       "    <tr>\n",
       "      <th>...</th>\n",
       "      <td>...</td>\n",
       "    </tr>\n",
       "    <tr>\n",
       "      <th>20635</th>\n",
       "      <td>0.781</td>\n",
       "    </tr>\n",
       "    <tr>\n",
       "      <th>20636</th>\n",
       "      <td>0.771</td>\n",
       "    </tr>\n",
       "    <tr>\n",
       "      <th>20637</th>\n",
       "      <td>0.923</td>\n",
       "    </tr>\n",
       "    <tr>\n",
       "      <th>20638</th>\n",
       "      <td>0.847</td>\n",
       "    </tr>\n",
       "    <tr>\n",
       "      <th>20639</th>\n",
       "      <td>0.894</td>\n",
       "    </tr>\n",
       "  </tbody>\n",
       "</table>\n",
       "<p>20640 rows × 1 columns</p>\n",
       "</div>"
      ],
      "text/plain": [
       "       MedHouseVal\n",
       "0            4.526\n",
       "1            3.585\n",
       "2            3.521\n",
       "3            3.413\n",
       "4            3.422\n",
       "...            ...\n",
       "20635        0.781\n",
       "20636        0.771\n",
       "20637        0.923\n",
       "20638        0.847\n",
       "20639        0.894\n",
       "\n",
       "[20640 rows x 1 columns]"
      ]
     },
     "execution_count": 10,
     "metadata": {},
     "output_type": "execute_result"
    }
   ],
   "source": [
    "targetDF = pd.DataFrame(data.target, columns=data.target_names)\n",
    "targetDF"
   ]
  },
  {
   "cell_type": "code",
   "execution_count": 15,
   "metadata": {},
   "outputs": [
    {
     "data": {
      "text/plain": [
       "(20640, 8)"
      ]
     },
     "execution_count": 15,
     "metadata": {},
     "output_type": "execute_result"
    }
   ],
   "source": [
    "featureDF.shape"
   ]
  },
  {
   "cell_type": "code",
   "execution_count": 16,
   "metadata": {},
   "outputs": [
    {
     "name": "stdout",
     "output_type": "stream",
     "text": [
      "<class 'pandas.core.frame.DataFrame'>\n",
      "RangeIndex: 20640 entries, 0 to 20639\n",
      "Data columns (total 8 columns):\n",
      " #   Column      Non-Null Count  Dtype  \n",
      "---  ------      --------------  -----  \n",
      " 0   MedInc      20640 non-null  float64\n",
      " 1   HouseAge    20640 non-null  float64\n",
      " 2   AveRooms    20640 non-null  float64\n",
      " 3   AveBedrms   20640 non-null  float64\n",
      " 4   Population  20640 non-null  float64\n",
      " 5   AveOccup    20640 non-null  float64\n",
      " 6   Latitude    20640 non-null  float64\n",
      " 7   Longitude   20640 non-null  float64\n",
      "dtypes: float64(8)\n",
      "memory usage: 1.3 MB\n"
     ]
    }
   ],
   "source": [
    "featureDF.info()"
   ]
  },
  {
   "cell_type": "code",
   "execution_count": 17,
   "metadata": {},
   "outputs": [
    {
     "data": {
      "text/plain": [
       "MedInc        False\n",
       "HouseAge      False\n",
       "AveRooms      False\n",
       "AveBedrms     False\n",
       "Population    False\n",
       "AveOccup      False\n",
       "Latitude      False\n",
       "Longitude     False\n",
       "dtype: bool"
      ]
     },
     "execution_count": 17,
     "metadata": {},
     "output_type": "execute_result"
    }
   ],
   "source": [
    "featureDF.isnull().any()"
   ]
  },
  {
   "cell_type": "code",
   "execution_count": 18,
   "metadata": {},
   "outputs": [
    {
     "data": {
      "text/plain": [
       "MedInc        0\n",
       "HouseAge      0\n",
       "AveRooms      0\n",
       "AveBedrms     0\n",
       "Population    0\n",
       "AveOccup      0\n",
       "Latitude      0\n",
       "Longitude     0\n",
       "dtype: int64"
      ]
     },
     "execution_count": 18,
     "metadata": {},
     "output_type": "execute_result"
    }
   ],
   "source": [
    "featureDF.isnull().sum()"
   ]
  },
  {
   "cell_type": "code",
   "execution_count": 27,
   "metadata": {},
   "outputs": [],
   "source": [
    "from sklearn.model_selection import train_test_split\n",
    "x_train, x_test, y_train, y_test = train_test_split(featureDF, targetDF, test_size=0.2, random_state=42, shuffle=True)"
   ]
  },
  {
   "cell_type": "code",
   "execution_count": 28,
   "metadata": {},
   "outputs": [],
   "source": [
    "train_data = pd.concat([x_train, y_train], axis='columns',\n",
    "                       names=['MedInc',\t'HouseAge',\t'AveRooms',\t'AveBedrms', 'Population',\t'AveOccup',\t'Latitude',\t'Longitude', 'MedHouseVal'])"
   ]
  },
  {
   "cell_type": "code",
   "execution_count": 29,
   "metadata": {},
   "outputs": [
    {
     "data": {
      "text/html": [
       "<div>\n",
       "<style scoped>\n",
       "    .dataframe tbody tr th:only-of-type {\n",
       "        vertical-align: middle;\n",
       "    }\n",
       "\n",
       "    .dataframe tbody tr th {\n",
       "        vertical-align: top;\n",
       "    }\n",
       "\n",
       "    .dataframe thead th {\n",
       "        text-align: right;\n",
       "    }\n",
       "</style>\n",
       "<table border=\"1\" class=\"dataframe\">\n",
       "  <thead>\n",
       "    <tr style=\"text-align: right;\">\n",
       "      <th></th>\n",
       "      <th>MedInc</th>\n",
       "      <th>HouseAge</th>\n",
       "      <th>AveRooms</th>\n",
       "      <th>AveBedrms</th>\n",
       "      <th>Population</th>\n",
       "      <th>AveOccup</th>\n",
       "      <th>Latitude</th>\n",
       "      <th>Longitude</th>\n",
       "      <th>MedHouseVal</th>\n",
       "    </tr>\n",
       "  </thead>\n",
       "  <tbody>\n",
       "    <tr>\n",
       "      <th>14196</th>\n",
       "      <td>3.2596</td>\n",
       "      <td>33.0</td>\n",
       "      <td>5.017657</td>\n",
       "      <td>1.006421</td>\n",
       "      <td>2300.0</td>\n",
       "      <td>3.691814</td>\n",
       "      <td>32.71</td>\n",
       "      <td>-117.03</td>\n",
       "      <td>1.030</td>\n",
       "    </tr>\n",
       "    <tr>\n",
       "      <th>8267</th>\n",
       "      <td>3.8125</td>\n",
       "      <td>49.0</td>\n",
       "      <td>4.473545</td>\n",
       "      <td>1.041005</td>\n",
       "      <td>1314.0</td>\n",
       "      <td>1.738095</td>\n",
       "      <td>33.77</td>\n",
       "      <td>-118.16</td>\n",
       "      <td>3.821</td>\n",
       "    </tr>\n",
       "    <tr>\n",
       "      <th>17445</th>\n",
       "      <td>4.1563</td>\n",
       "      <td>4.0</td>\n",
       "      <td>5.645833</td>\n",
       "      <td>0.985119</td>\n",
       "      <td>915.0</td>\n",
       "      <td>2.723214</td>\n",
       "      <td>34.66</td>\n",
       "      <td>-120.48</td>\n",
       "      <td>1.726</td>\n",
       "    </tr>\n",
       "    <tr>\n",
       "      <th>14265</th>\n",
       "      <td>1.9425</td>\n",
       "      <td>36.0</td>\n",
       "      <td>4.002817</td>\n",
       "      <td>1.033803</td>\n",
       "      <td>1418.0</td>\n",
       "      <td>3.994366</td>\n",
       "      <td>32.69</td>\n",
       "      <td>-117.11</td>\n",
       "      <td>0.934</td>\n",
       "    </tr>\n",
       "    <tr>\n",
       "      <th>2271</th>\n",
       "      <td>3.5542</td>\n",
       "      <td>43.0</td>\n",
       "      <td>6.268421</td>\n",
       "      <td>1.134211</td>\n",
       "      <td>874.0</td>\n",
       "      <td>2.300000</td>\n",
       "      <td>36.78</td>\n",
       "      <td>-119.80</td>\n",
       "      <td>0.965</td>\n",
       "    </tr>\n",
       "    <tr>\n",
       "      <th>...</th>\n",
       "      <td>...</td>\n",
       "      <td>...</td>\n",
       "      <td>...</td>\n",
       "      <td>...</td>\n",
       "      <td>...</td>\n",
       "      <td>...</td>\n",
       "      <td>...</td>\n",
       "      <td>...</td>\n",
       "      <td>...</td>\n",
       "    </tr>\n",
       "    <tr>\n",
       "      <th>11284</th>\n",
       "      <td>6.3700</td>\n",
       "      <td>35.0</td>\n",
       "      <td>6.129032</td>\n",
       "      <td>0.926267</td>\n",
       "      <td>658.0</td>\n",
       "      <td>3.032258</td>\n",
       "      <td>33.78</td>\n",
       "      <td>-117.96</td>\n",
       "      <td>2.292</td>\n",
       "    </tr>\n",
       "    <tr>\n",
       "      <th>11964</th>\n",
       "      <td>3.0500</td>\n",
       "      <td>33.0</td>\n",
       "      <td>6.868597</td>\n",
       "      <td>1.269488</td>\n",
       "      <td>1753.0</td>\n",
       "      <td>3.904232</td>\n",
       "      <td>34.02</td>\n",
       "      <td>-117.43</td>\n",
       "      <td>0.978</td>\n",
       "    </tr>\n",
       "    <tr>\n",
       "      <th>5390</th>\n",
       "      <td>2.9344</td>\n",
       "      <td>36.0</td>\n",
       "      <td>3.986717</td>\n",
       "      <td>1.079696</td>\n",
       "      <td>1756.0</td>\n",
       "      <td>3.332068</td>\n",
       "      <td>34.03</td>\n",
       "      <td>-118.38</td>\n",
       "      <td>2.221</td>\n",
       "    </tr>\n",
       "    <tr>\n",
       "      <th>860</th>\n",
       "      <td>5.7192</td>\n",
       "      <td>15.0</td>\n",
       "      <td>6.395349</td>\n",
       "      <td>1.067979</td>\n",
       "      <td>1777.0</td>\n",
       "      <td>3.178891</td>\n",
       "      <td>37.58</td>\n",
       "      <td>-121.96</td>\n",
       "      <td>2.835</td>\n",
       "    </tr>\n",
       "    <tr>\n",
       "      <th>15795</th>\n",
       "      <td>2.5755</td>\n",
       "      <td>52.0</td>\n",
       "      <td>3.402576</td>\n",
       "      <td>1.058776</td>\n",
       "      <td>2619.0</td>\n",
       "      <td>2.108696</td>\n",
       "      <td>37.77</td>\n",
       "      <td>-122.42</td>\n",
       "      <td>3.250</td>\n",
       "    </tr>\n",
       "  </tbody>\n",
       "</table>\n",
       "<p>16512 rows × 9 columns</p>\n",
       "</div>"
      ],
      "text/plain": [
       "       MedInc  HouseAge  AveRooms  AveBedrms  Population  AveOccup  Latitude  \\\n",
       "14196  3.2596      33.0  5.017657   1.006421      2300.0  3.691814     32.71   \n",
       "8267   3.8125      49.0  4.473545   1.041005      1314.0  1.738095     33.77   \n",
       "17445  4.1563       4.0  5.645833   0.985119       915.0  2.723214     34.66   \n",
       "14265  1.9425      36.0  4.002817   1.033803      1418.0  3.994366     32.69   \n",
       "2271   3.5542      43.0  6.268421   1.134211       874.0  2.300000     36.78   \n",
       "...       ...       ...       ...        ...         ...       ...       ...   \n",
       "11284  6.3700      35.0  6.129032   0.926267       658.0  3.032258     33.78   \n",
       "11964  3.0500      33.0  6.868597   1.269488      1753.0  3.904232     34.02   \n",
       "5390   2.9344      36.0  3.986717   1.079696      1756.0  3.332068     34.03   \n",
       "860    5.7192      15.0  6.395349   1.067979      1777.0  3.178891     37.58   \n",
       "15795  2.5755      52.0  3.402576   1.058776      2619.0  2.108696     37.77   \n",
       "\n",
       "       Longitude  MedHouseVal  \n",
       "14196    -117.03        1.030  \n",
       "8267     -118.16        3.821  \n",
       "17445    -120.48        1.726  \n",
       "14265    -117.11        0.934  \n",
       "2271     -119.80        0.965  \n",
       "...          ...          ...  \n",
       "11284    -117.96        2.292  \n",
       "11964    -117.43        0.978  \n",
       "5390     -118.38        2.221  \n",
       "860      -121.96        2.835  \n",
       "15795    -122.42        3.250  \n",
       "\n",
       "[16512 rows x 9 columns]"
      ]
     },
     "execution_count": 29,
     "metadata": {},
     "output_type": "execute_result"
    }
   ],
   "source": [
    "train_data"
   ]
  },
  {
   "cell_type": "code",
   "execution_count": 30,
   "metadata": {},
   "outputs": [],
   "source": [
    "test_data = pd.concat([x_test, y_test], axis='columns',\n",
    "                       names=['MedInc',\t'HouseAge',\t'AveRooms',\t'AveBedrms', 'Population',\t'AveOccup',\t'Latitude',\t'Longitude', 'MedHouseVal'])"
   ]
  },
  {
   "cell_type": "code",
   "execution_count": 31,
   "metadata": {},
   "outputs": [
    {
     "data": {
      "text/html": [
       "<div>\n",
       "<style scoped>\n",
       "    .dataframe tbody tr th:only-of-type {\n",
       "        vertical-align: middle;\n",
       "    }\n",
       "\n",
       "    .dataframe tbody tr th {\n",
       "        vertical-align: top;\n",
       "    }\n",
       "\n",
       "    .dataframe thead th {\n",
       "        text-align: right;\n",
       "    }\n",
       "</style>\n",
       "<table border=\"1\" class=\"dataframe\">\n",
       "  <thead>\n",
       "    <tr style=\"text-align: right;\">\n",
       "      <th></th>\n",
       "      <th>MedInc</th>\n",
       "      <th>HouseAge</th>\n",
       "      <th>AveRooms</th>\n",
       "      <th>AveBedrms</th>\n",
       "      <th>Population</th>\n",
       "      <th>AveOccup</th>\n",
       "      <th>Latitude</th>\n",
       "      <th>Longitude</th>\n",
       "      <th>MedHouseVal</th>\n",
       "    </tr>\n",
       "  </thead>\n",
       "  <tbody>\n",
       "    <tr>\n",
       "      <th>20046</th>\n",
       "      <td>1.6812</td>\n",
       "      <td>25.0</td>\n",
       "      <td>4.192201</td>\n",
       "      <td>1.022284</td>\n",
       "      <td>1392.0</td>\n",
       "      <td>3.877437</td>\n",
       "      <td>36.06</td>\n",
       "      <td>-119.01</td>\n",
       "      <td>0.47700</td>\n",
       "    </tr>\n",
       "    <tr>\n",
       "      <th>3024</th>\n",
       "      <td>2.5313</td>\n",
       "      <td>30.0</td>\n",
       "      <td>5.039384</td>\n",
       "      <td>1.193493</td>\n",
       "      <td>1565.0</td>\n",
       "      <td>2.679795</td>\n",
       "      <td>35.14</td>\n",
       "      <td>-119.46</td>\n",
       "      <td>0.45800</td>\n",
       "    </tr>\n",
       "    <tr>\n",
       "      <th>15663</th>\n",
       "      <td>3.4801</td>\n",
       "      <td>52.0</td>\n",
       "      <td>3.977155</td>\n",
       "      <td>1.185877</td>\n",
       "      <td>1310.0</td>\n",
       "      <td>1.360332</td>\n",
       "      <td>37.80</td>\n",
       "      <td>-122.44</td>\n",
       "      <td>5.00001</td>\n",
       "    </tr>\n",
       "    <tr>\n",
       "      <th>20484</th>\n",
       "      <td>5.7376</td>\n",
       "      <td>17.0</td>\n",
       "      <td>6.163636</td>\n",
       "      <td>1.020202</td>\n",
       "      <td>1705.0</td>\n",
       "      <td>3.444444</td>\n",
       "      <td>34.28</td>\n",
       "      <td>-118.72</td>\n",
       "      <td>2.18600</td>\n",
       "    </tr>\n",
       "    <tr>\n",
       "      <th>9814</th>\n",
       "      <td>3.7250</td>\n",
       "      <td>34.0</td>\n",
       "      <td>5.492991</td>\n",
       "      <td>1.028037</td>\n",
       "      <td>1063.0</td>\n",
       "      <td>2.483645</td>\n",
       "      <td>36.62</td>\n",
       "      <td>-121.93</td>\n",
       "      <td>2.78000</td>\n",
       "    </tr>\n",
       "    <tr>\n",
       "      <th>...</th>\n",
       "      <td>...</td>\n",
       "      <td>...</td>\n",
       "      <td>...</td>\n",
       "      <td>...</td>\n",
       "      <td>...</td>\n",
       "      <td>...</td>\n",
       "      <td>...</td>\n",
       "      <td>...</td>\n",
       "      <td>...</td>\n",
       "    </tr>\n",
       "    <tr>\n",
       "      <th>15362</th>\n",
       "      <td>4.6050</td>\n",
       "      <td>16.0</td>\n",
       "      <td>7.002212</td>\n",
       "      <td>1.066372</td>\n",
       "      <td>1351.0</td>\n",
       "      <td>2.988938</td>\n",
       "      <td>33.36</td>\n",
       "      <td>-117.22</td>\n",
       "      <td>2.63300</td>\n",
       "    </tr>\n",
       "    <tr>\n",
       "      <th>16623</th>\n",
       "      <td>2.7266</td>\n",
       "      <td>28.0</td>\n",
       "      <td>6.131915</td>\n",
       "      <td>1.256738</td>\n",
       "      <td>1650.0</td>\n",
       "      <td>2.340426</td>\n",
       "      <td>35.36</td>\n",
       "      <td>-120.83</td>\n",
       "      <td>2.66800</td>\n",
       "    </tr>\n",
       "    <tr>\n",
       "      <th>18086</th>\n",
       "      <td>9.2298</td>\n",
       "      <td>25.0</td>\n",
       "      <td>7.237676</td>\n",
       "      <td>0.947183</td>\n",
       "      <td>1585.0</td>\n",
       "      <td>2.790493</td>\n",
       "      <td>37.31</td>\n",
       "      <td>-122.05</td>\n",
       "      <td>5.00001</td>\n",
       "    </tr>\n",
       "    <tr>\n",
       "      <th>2144</th>\n",
       "      <td>2.7850</td>\n",
       "      <td>36.0</td>\n",
       "      <td>5.289030</td>\n",
       "      <td>0.983122</td>\n",
       "      <td>1227.0</td>\n",
       "      <td>2.588608</td>\n",
       "      <td>36.77</td>\n",
       "      <td>-119.76</td>\n",
       "      <td>0.72300</td>\n",
       "    </tr>\n",
       "    <tr>\n",
       "      <th>3665</th>\n",
       "      <td>3.5521</td>\n",
       "      <td>17.0</td>\n",
       "      <td>3.988839</td>\n",
       "      <td>1.033482</td>\n",
       "      <td>1671.0</td>\n",
       "      <td>3.729911</td>\n",
       "      <td>34.22</td>\n",
       "      <td>-118.37</td>\n",
       "      <td>1.51500</td>\n",
       "    </tr>\n",
       "  </tbody>\n",
       "</table>\n",
       "<p>4128 rows × 9 columns</p>\n",
       "</div>"
      ],
      "text/plain": [
       "       MedInc  HouseAge  AveRooms  AveBedrms  Population  AveOccup  Latitude  \\\n",
       "20046  1.6812      25.0  4.192201   1.022284      1392.0  3.877437     36.06   \n",
       "3024   2.5313      30.0  5.039384   1.193493      1565.0  2.679795     35.14   \n",
       "15663  3.4801      52.0  3.977155   1.185877      1310.0  1.360332     37.80   \n",
       "20484  5.7376      17.0  6.163636   1.020202      1705.0  3.444444     34.28   \n",
       "9814   3.7250      34.0  5.492991   1.028037      1063.0  2.483645     36.62   \n",
       "...       ...       ...       ...        ...         ...       ...       ...   \n",
       "15362  4.6050      16.0  7.002212   1.066372      1351.0  2.988938     33.36   \n",
       "16623  2.7266      28.0  6.131915   1.256738      1650.0  2.340426     35.36   \n",
       "18086  9.2298      25.0  7.237676   0.947183      1585.0  2.790493     37.31   \n",
       "2144   2.7850      36.0  5.289030   0.983122      1227.0  2.588608     36.77   \n",
       "3665   3.5521      17.0  3.988839   1.033482      1671.0  3.729911     34.22   \n",
       "\n",
       "       Longitude  MedHouseVal  \n",
       "20046    -119.01      0.47700  \n",
       "3024     -119.46      0.45800  \n",
       "15663    -122.44      5.00001  \n",
       "20484    -118.72      2.18600  \n",
       "9814     -121.93      2.78000  \n",
       "...          ...          ...  \n",
       "15362    -117.22      2.63300  \n",
       "16623    -120.83      2.66800  \n",
       "18086    -122.05      5.00001  \n",
       "2144     -119.76      0.72300  \n",
       "3665     -118.37      1.51500  \n",
       "\n",
       "[4128 rows x 9 columns]"
      ]
     },
     "execution_count": 31,
     "metadata": {},
     "output_type": "execute_result"
    }
   ],
   "source": [
    "test_data"
   ]
  },
  {
   "cell_type": "code",
   "execution_count": 32,
   "metadata": {},
   "outputs": [
    {
     "data": {
      "text/html": [
       "<div>\n",
       "<style scoped>\n",
       "    .dataframe tbody tr th:only-of-type {\n",
       "        vertical-align: middle;\n",
       "    }\n",
       "\n",
       "    .dataframe tbody tr th {\n",
       "        vertical-align: top;\n",
       "    }\n",
       "\n",
       "    .dataframe thead th {\n",
       "        text-align: right;\n",
       "    }\n",
       "</style>\n",
       "<table border=\"1\" class=\"dataframe\">\n",
       "  <thead>\n",
       "    <tr style=\"text-align: right;\">\n",
       "      <th></th>\n",
       "      <th>MedInc</th>\n",
       "      <th>HouseAge</th>\n",
       "      <th>AveRooms</th>\n",
       "      <th>AveBedrms</th>\n",
       "      <th>Population</th>\n",
       "      <th>AveOccup</th>\n",
       "      <th>Latitude</th>\n",
       "      <th>Longitude</th>\n",
       "      <th>MedHouseVal</th>\n",
       "    </tr>\n",
       "  </thead>\n",
       "  <tbody>\n",
       "    <tr>\n",
       "      <th>count</th>\n",
       "      <td>16512.000000</td>\n",
       "      <td>16512.000000</td>\n",
       "      <td>16512.000000</td>\n",
       "      <td>16512.000000</td>\n",
       "      <td>16512.000000</td>\n",
       "      <td>16512.000000</td>\n",
       "      <td>16512.000000</td>\n",
       "      <td>16512.000000</td>\n",
       "      <td>16512.000000</td>\n",
       "    </tr>\n",
       "    <tr>\n",
       "      <th>mean</th>\n",
       "      <td>3.880754</td>\n",
       "      <td>28.608285</td>\n",
       "      <td>5.435235</td>\n",
       "      <td>1.096685</td>\n",
       "      <td>1426.453004</td>\n",
       "      <td>3.096961</td>\n",
       "      <td>35.643149</td>\n",
       "      <td>-119.582290</td>\n",
       "      <td>2.071947</td>\n",
       "    </tr>\n",
       "    <tr>\n",
       "      <th>std</th>\n",
       "      <td>1.904294</td>\n",
       "      <td>12.602499</td>\n",
       "      <td>2.387375</td>\n",
       "      <td>0.433215</td>\n",
       "      <td>1137.056380</td>\n",
       "      <td>11.578744</td>\n",
       "      <td>2.136665</td>\n",
       "      <td>2.005654</td>\n",
       "      <td>1.156226</td>\n",
       "    </tr>\n",
       "    <tr>\n",
       "      <th>min</th>\n",
       "      <td>0.499900</td>\n",
       "      <td>1.000000</td>\n",
       "      <td>0.888889</td>\n",
       "      <td>0.333333</td>\n",
       "      <td>3.000000</td>\n",
       "      <td>0.692308</td>\n",
       "      <td>32.550000</td>\n",
       "      <td>-124.350000</td>\n",
       "      <td>0.149990</td>\n",
       "    </tr>\n",
       "    <tr>\n",
       "      <th>25%</th>\n",
       "      <td>2.566700</td>\n",
       "      <td>18.000000</td>\n",
       "      <td>4.452055</td>\n",
       "      <td>1.006508</td>\n",
       "      <td>789.000000</td>\n",
       "      <td>2.428799</td>\n",
       "      <td>33.930000</td>\n",
       "      <td>-121.810000</td>\n",
       "      <td>1.198000</td>\n",
       "    </tr>\n",
       "    <tr>\n",
       "      <th>50%</th>\n",
       "      <td>3.545800</td>\n",
       "      <td>29.000000</td>\n",
       "      <td>5.235874</td>\n",
       "      <td>1.049286</td>\n",
       "      <td>1167.000000</td>\n",
       "      <td>2.817240</td>\n",
       "      <td>34.260000</td>\n",
       "      <td>-118.510000</td>\n",
       "      <td>1.798500</td>\n",
       "    </tr>\n",
       "    <tr>\n",
       "      <th>75%</th>\n",
       "      <td>4.773175</td>\n",
       "      <td>37.000000</td>\n",
       "      <td>6.061037</td>\n",
       "      <td>1.100348</td>\n",
       "      <td>1726.000000</td>\n",
       "      <td>3.280000</td>\n",
       "      <td>37.720000</td>\n",
       "      <td>-118.010000</td>\n",
       "      <td>2.651250</td>\n",
       "    </tr>\n",
       "    <tr>\n",
       "      <th>max</th>\n",
       "      <td>15.000100</td>\n",
       "      <td>52.000000</td>\n",
       "      <td>141.909091</td>\n",
       "      <td>25.636364</td>\n",
       "      <td>35682.000000</td>\n",
       "      <td>1243.333333</td>\n",
       "      <td>41.950000</td>\n",
       "      <td>-114.310000</td>\n",
       "      <td>5.000010</td>\n",
       "    </tr>\n",
       "  </tbody>\n",
       "</table>\n",
       "</div>"
      ],
      "text/plain": [
       "             MedInc      HouseAge      AveRooms     AveBedrms    Population  \\\n",
       "count  16512.000000  16512.000000  16512.000000  16512.000000  16512.000000   \n",
       "mean       3.880754     28.608285      5.435235      1.096685   1426.453004   \n",
       "std        1.904294     12.602499      2.387375      0.433215   1137.056380   \n",
       "min        0.499900      1.000000      0.888889      0.333333      3.000000   \n",
       "25%        2.566700     18.000000      4.452055      1.006508    789.000000   \n",
       "50%        3.545800     29.000000      5.235874      1.049286   1167.000000   \n",
       "75%        4.773175     37.000000      6.061037      1.100348   1726.000000   \n",
       "max       15.000100     52.000000    141.909091     25.636364  35682.000000   \n",
       "\n",
       "           AveOccup      Latitude     Longitude   MedHouseVal  \n",
       "count  16512.000000  16512.000000  16512.000000  16512.000000  \n",
       "mean       3.096961     35.643149   -119.582290      2.071947  \n",
       "std       11.578744      2.136665      2.005654      1.156226  \n",
       "min        0.692308     32.550000   -124.350000      0.149990  \n",
       "25%        2.428799     33.930000   -121.810000      1.198000  \n",
       "50%        2.817240     34.260000   -118.510000      1.798500  \n",
       "75%        3.280000     37.720000   -118.010000      2.651250  \n",
       "max     1243.333333     41.950000   -114.310000      5.000010  "
      ]
     },
     "execution_count": 32,
     "metadata": {},
     "output_type": "execute_result"
    }
   ],
   "source": [
    "train_data.describe()"
   ]
  },
  {
   "cell_type": "code",
   "execution_count": 33,
   "metadata": {},
   "outputs": [
    {
     "data": {
      "text/html": [
       "<div>\n",
       "<style scoped>\n",
       "    .dataframe tbody tr th:only-of-type {\n",
       "        vertical-align: middle;\n",
       "    }\n",
       "\n",
       "    .dataframe tbody tr th {\n",
       "        vertical-align: top;\n",
       "    }\n",
       "\n",
       "    .dataframe thead th {\n",
       "        text-align: right;\n",
       "    }\n",
       "</style>\n",
       "<table border=\"1\" class=\"dataframe\">\n",
       "  <thead>\n",
       "    <tr style=\"text-align: right;\">\n",
       "      <th></th>\n",
       "      <th>MedInc</th>\n",
       "      <th>HouseAge</th>\n",
       "      <th>AveRooms</th>\n",
       "      <th>AveBedrms</th>\n",
       "      <th>Population</th>\n",
       "      <th>AveOccup</th>\n",
       "      <th>Latitude</th>\n",
       "      <th>Longitude</th>\n",
       "      <th>MedHouseVal</th>\n",
       "    </tr>\n",
       "  </thead>\n",
       "  <tbody>\n",
       "    <tr>\n",
       "      <th>MedInc</th>\n",
       "      <td>1.000000</td>\n",
       "      <td>-0.121711</td>\n",
       "      <td>0.336013</td>\n",
       "      <td>-0.072550</td>\n",
       "      <td>0.004122</td>\n",
       "      <td>0.022061</td>\n",
       "      <td>-0.076571</td>\n",
       "      <td>-0.017040</td>\n",
       "      <td>0.690647</td>\n",
       "    </tr>\n",
       "    <tr>\n",
       "      <th>HouseAge</th>\n",
       "      <td>-0.121711</td>\n",
       "      <td>1.000000</td>\n",
       "      <td>-0.160892</td>\n",
       "      <td>-0.087983</td>\n",
       "      <td>-0.292283</td>\n",
       "      <td>0.016245</td>\n",
       "      <td>0.005296</td>\n",
       "      <td>-0.101818</td>\n",
       "      <td>0.103706</td>\n",
       "    </tr>\n",
       "    <tr>\n",
       "      <th>AveRooms</th>\n",
       "      <td>0.336013</td>\n",
       "      <td>-0.160892</td>\n",
       "      <td>1.000000</td>\n",
       "      <td>0.836163</td>\n",
       "      <td>-0.073733</td>\n",
       "      <td>-0.004922</td>\n",
       "      <td>0.110695</td>\n",
       "      <td>-0.029339</td>\n",
       "      <td>0.158485</td>\n",
       "    </tr>\n",
       "    <tr>\n",
       "      <th>AveBedrms</th>\n",
       "      <td>-0.072550</td>\n",
       "      <td>-0.087983</td>\n",
       "      <td>0.836163</td>\n",
       "      <td>1.000000</td>\n",
       "      <td>-0.071267</td>\n",
       "      <td>-0.006035</td>\n",
       "      <td>0.073161</td>\n",
       "      <td>0.016647</td>\n",
       "      <td>-0.051351</td>\n",
       "    </tr>\n",
       "    <tr>\n",
       "      <th>Population</th>\n",
       "      <td>0.004122</td>\n",
       "      <td>-0.292283</td>\n",
       "      <td>-0.073733</td>\n",
       "      <td>-0.071267</td>\n",
       "      <td>1.000000</td>\n",
       "      <td>0.072330</td>\n",
       "      <td>-0.102499</td>\n",
       "      <td>0.094276</td>\n",
       "      <td>-0.026032</td>\n",
       "    </tr>\n",
       "    <tr>\n",
       "      <th>AveOccup</th>\n",
       "      <td>0.022061</td>\n",
       "      <td>0.016245</td>\n",
       "      <td>-0.004922</td>\n",
       "      <td>-0.006035</td>\n",
       "      <td>0.072330</td>\n",
       "      <td>1.000000</td>\n",
       "      <td>0.005837</td>\n",
       "      <td>-0.000598</td>\n",
       "      <td>-0.022030</td>\n",
       "    </tr>\n",
       "    <tr>\n",
       "      <th>Latitude</th>\n",
       "      <td>-0.076571</td>\n",
       "      <td>0.005296</td>\n",
       "      <td>0.110695</td>\n",
       "      <td>0.073161</td>\n",
       "      <td>-0.102499</td>\n",
       "      <td>0.005837</td>\n",
       "      <td>1.000000</td>\n",
       "      <td>-0.924485</td>\n",
       "      <td>-0.142983</td>\n",
       "    </tr>\n",
       "    <tr>\n",
       "      <th>Longitude</th>\n",
       "      <td>-0.017040</td>\n",
       "      <td>-0.101818</td>\n",
       "      <td>-0.029339</td>\n",
       "      <td>0.016647</td>\n",
       "      <td>0.094276</td>\n",
       "      <td>-0.000598</td>\n",
       "      <td>-0.924485</td>\n",
       "      <td>1.000000</td>\n",
       "      <td>-0.046349</td>\n",
       "    </tr>\n",
       "    <tr>\n",
       "      <th>MedHouseVal</th>\n",
       "      <td>0.690647</td>\n",
       "      <td>0.103706</td>\n",
       "      <td>0.158485</td>\n",
       "      <td>-0.051351</td>\n",
       "      <td>-0.026032</td>\n",
       "      <td>-0.022030</td>\n",
       "      <td>-0.142983</td>\n",
       "      <td>-0.046349</td>\n",
       "      <td>1.000000</td>\n",
       "    </tr>\n",
       "  </tbody>\n",
       "</table>\n",
       "</div>"
      ],
      "text/plain": [
       "               MedInc  HouseAge  AveRooms  AveBedrms  Population  AveOccup  \\\n",
       "MedInc       1.000000 -0.121711  0.336013  -0.072550    0.004122  0.022061   \n",
       "HouseAge    -0.121711  1.000000 -0.160892  -0.087983   -0.292283  0.016245   \n",
       "AveRooms     0.336013 -0.160892  1.000000   0.836163   -0.073733 -0.004922   \n",
       "AveBedrms   -0.072550 -0.087983  0.836163   1.000000   -0.071267 -0.006035   \n",
       "Population   0.004122 -0.292283 -0.073733  -0.071267    1.000000  0.072330   \n",
       "AveOccup     0.022061  0.016245 -0.004922  -0.006035    0.072330  1.000000   \n",
       "Latitude    -0.076571  0.005296  0.110695   0.073161   -0.102499  0.005837   \n",
       "Longitude   -0.017040 -0.101818 -0.029339   0.016647    0.094276 -0.000598   \n",
       "MedHouseVal  0.690647  0.103706  0.158485  -0.051351   -0.026032 -0.022030   \n",
       "\n",
       "             Latitude  Longitude  MedHouseVal  \n",
       "MedInc      -0.076571  -0.017040     0.690647  \n",
       "HouseAge     0.005296  -0.101818     0.103706  \n",
       "AveRooms     0.110695  -0.029339     0.158485  \n",
       "AveBedrms    0.073161   0.016647    -0.051351  \n",
       "Population  -0.102499   0.094276    -0.026032  \n",
       "AveOccup     0.005837  -0.000598    -0.022030  \n",
       "Latitude     1.000000  -0.924485    -0.142983  \n",
       "Longitude   -0.924485   1.000000    -0.046349  \n",
       "MedHouseVal -0.142983  -0.046349     1.000000  "
      ]
     },
     "execution_count": 33,
     "metadata": {},
     "output_type": "execute_result"
    }
   ],
   "source": [
    "corr_mat = train_data.corr(method='pearson')\n",
    "corr_mat"
   ]
  },
  {
   "cell_type": "code",
   "execution_count": 34,
   "metadata": {},
   "outputs": [
    {
     "data": {
      "image/png": "[encoded data removed]",
      "text/plain": [
       "<Figure size 288x288 with 2 Axes>"
      ]
     },
     "metadata": {
      "needs_background": "light"
     },
     "output_type": "display_data"
    }
   ],
   "source": [
    "# Visualize the correlation matrix\n",
    "import matplotlib.pyplot as plt\n",
    "plt.matshow(corr_mat)\n",
    "plt.xticks(range(len(corr_mat.columns)), corr_mat.columns, rotation=90)\n",
    "plt.yticks(range(len(corr_mat.columns)), corr_mat.columns)\n",
    "plt.colorbar()\n",
    "plt.show()"
   ]
  },
  {
   "cell_type": "code",
   "execution_count": 35,
   "metadata": {},
   "outputs": [
    {
     "data": {
      "text/plain": [
       "[]"
      ]
     },
     "execution_count": 35,
     "metadata": {},
     "output_type": "execute_result"
    },
    {
     "data": {
      "image/png": "[encoded data removed]",
      "text/plain": [
       "<Figure size 432x288 with 1 Axes>"
      ]
     },
     "metadata": {
      "needs_background": "light"
     },
     "output_type": "display_data"
    }
   ],
   "source": [
    "plt.scatter(x_train['MedInc'], y_train)\n",
    "plt.title(\"MedHouseVal vs MedInc\")\n",
    "plt.xlabel(\"MedInc\")\n",
    "plt.ylabel(\"MedHouseVal\")\n",
    "plt.plot()"
   ]
  },
  {
   "cell_type": "code",
   "execution_count": 36,
   "metadata": {},
   "outputs": [
    {
     "data": {
      "text/plain": [
       "[]"
      ]
     },
     "execution_count": 36,
     "metadata": {},
     "output_type": "execute_result"
    },
    {
     "data": {
      "image/png": "[encoded data removed]",
      "text/plain": [
       "<Figure size 432x288 with 1 Axes>"
      ]
     },
     "metadata": {
      "needs_background": "light"
     },
     "output_type": "display_data"
    }
   ],
   "source": [
    "plt.scatter(x_train['HouseAge'], y_train)\n",
    "plt.title(\"MedHouseVal vs HouseAge\")\n",
    "plt.xlabel(\"HouseAge\")\n",
    "plt.ylabel(\"MedHouseVal\")\n",
    "plt.plot()"
   ]
  },
  {
   "cell_type": "code",
   "execution_count": 37,
   "metadata": {},
   "outputs": [
    {
     "data": {
      "text/plain": [
       "[]"
      ]
     },
     "execution_count": 37,
     "metadata": {},
     "output_type": "execute_result"
    },
    {
     "data": {
      "image/png": "[encoded data removed]",
      "text/plain": [
       "<Figure size 432x288 with 1 Axes>"
      ]
     },
     "metadata": {
      "needs_background": "light"
     },
     "output_type": "display_data"
    }
   ],
   "source": [
    "plt.scatter(x_train['AveRooms'], y_train)\n",
    "plt.title(\"MedHouseVal vs AveRooms\")\n",
    "plt.xlabel(\"AveRooms\")\n",
    "plt.ylabel(\"MedHouseVal\")\n",
    "plt.plot()"
   ]
  },
  {
   "cell_type": "code",
   "execution_count": 38,
   "metadata": {},
   "outputs": [
    {
     "data": {
      "text/plain": [
       "[]"
      ]
     },
     "execution_count": 38,
     "metadata": {},
     "output_type": "execute_result"
    },
    {
     "data": {
      "image/png": "[encoded data removed]",
      "text/plain": [
       "<Figure size 432x288 with 1 Axes>"
      ]
     },
     "metadata": {
      "needs_background": "light"
     },
     "output_type": "display_data"
    }
   ],
   "source": [
    "plt.scatter(x_train['AveBedrms'], y_train)\n",
    "plt.title(\"MedHouseVal vs AveBedrms\")\n",
    "plt.xlabel(\"AveBedrms\")\n",
    "plt.ylabel(\"MedHouseVal\")\n",
    "plt.plot()"
   ]
  },
  {
   "cell_type": "code",
   "execution_count": 39,
   "metadata": {},
   "outputs": [
    {
     "data": {
      "text/plain": [
       "[]"
      ]
     },
     "execution_count": 39,
     "metadata": {},
     "output_type": "execute_result"
    },
    {
     "data": {
      "image/png": "[encoded data removed]",
      "text/plain": [
       "<Figure size 432x288 with 1 Axes>"
      ]
     },
     "metadata": {
      "needs_background": "light"
     },
     "output_type": "display_data"
    }
   ],
   "source": [
    "plt.scatter(x_train['Population'], y_train)\n",
    "plt.title(\"MedHouseVal vs Population\")\n",
    "plt.xlabel(\"Population\")\n",
    "plt.ylabel(\"MedHouseVal\")\n",
    "plt.plot()"
   ]
  },
  {
   "cell_type": "code",
   "execution_count": 40,
   "metadata": {},
   "outputs": [
    {
     "data": {
      "text/plain": [
       "[]"
      ]
     },
     "execution_count": 40,
     "metadata": {},
     "output_type": "execute_result"
    },
    {
     "data": {
      "image/png": "[encoded data removed]",
      "text/plain": [
       "<Figure size 432x288 with 1 Axes>"
      ]
     },
     "metadata": {
      "needs_background": "light"
     },
     "output_type": "display_data"
    }
   ],
   "source": [
    "plt.scatter(x_train['AveOccup'], y_train)\n",
    "plt.title(\"MedHouseVal vs AveOccup\")\n",
    "plt.xlabel(\"AveOccup\")\n",
    "plt.ylabel(\"MedHouseVal\")\n",
    "plt.plot()"
   ]
  },
  {
   "cell_type": "code",
   "execution_count": 41,
   "metadata": {},
   "outputs": [
    {
     "data": {
      "text/plain": [
       "[]"
      ]
     },
     "execution_count": 41,
     "metadata": {},
     "output_type": "execute_result"
    },
    {
     "data": {
      "image/png": "[encoded data removed]",
      "text/plain": [
       "<Figure size 432x288 with 1 Axes>"
      ]
     },
     "metadata": {
      "needs_background": "light"
     },
     "output_type": "display_data"
    }
   ],
   "source": [
    "plt.scatter(x_train['Latitude'], y_train)\n",
    "plt.title(\"MedHouseVal vs Latitude\")\n",
    "plt.xlabel(\"Latitude\")\n",
    "plt.ylabel(\"MedHouseVal\")\n",
    "plt.plot()"
   ]
  },
  {
   "cell_type": "code",
   "execution_count": 44,
   "metadata": {},
   "outputs": [
    {
     "data": {
      "text/plain": [
       "[]"
      ]
     },
     "execution_count": 44,
     "metadata": {},
     "output_type": "execute_result"
    },
    {
     "data": {
      "image/png": "[encoded data removed]",
      "text/plain": [
       "<Figure size 432x288 with 1 Axes>"
      ]
     },
     "metadata": {
      "needs_background": "light"
     },
     "output_type": "display_data"
    }
   ],
   "source": [
    "plt.scatter(x_train['Longitude'], y_train)\n",
    "plt.title(\"MedHouseVal vs Longitude\")\n",
    "plt.xlabel(\"Longitude\")\n",
    "plt.ylabel(\"MedHouseVal\")\n",
    "plt.plot()"
   ]
  },
  {
   "cell_type": "code",
   "execution_count": 45,
   "metadata": {},
   "outputs": [],
   "source": [
    "from sklearn.linear_model import LinearRegression\n",
    "model = LinearRegression()\n",
    "model.fit(x_train, y_train)\n",
    "y_pred_train = model.predict(x_train)\n",
    "y_pred_test = model.predict(x_test)"
   ]
  },
  {
   "cell_type": "code",
   "execution_count": 46,
   "metadata": {},
   "outputs": [
    {
     "data": {
      "text/plain": [
       "array([[1.93725845],\n",
       "       [2.48910616],\n",
       "       [2.64735483],\n",
       "       ...,\n",
       "       [2.03879912],\n",
       "       [2.84075139],\n",
       "       [2.27373156]])"
      ]
     },
     "execution_count": 46,
     "metadata": {},
     "output_type": "execute_result"
    }
   ],
   "source": [
    "y_pred_train"
   ]
  },
  {
   "cell_type": "code",
   "execution_count": 47,
   "metadata": {},
   "outputs": [
    {
     "data": {
      "text/plain": [
       "array([[0.71912284],\n",
       "       [1.76401657],\n",
       "       [2.70965883],\n",
       "       ...,\n",
       "       [4.46877017],\n",
       "       [1.18751119],\n",
       "       [2.00940251]])"
      ]
     },
     "execution_count": 47,
     "metadata": {},
     "output_type": "execute_result"
    }
   ],
   "source": [
    "y_pred_test"
   ]
  },
  {
   "cell_type": "code",
   "execution_count": 52,
   "metadata": {},
   "outputs": [
    {
     "name": "stdout",
     "output_type": "stream",
     "text": [
      "Evaluation metrics: Train Data\n",
      "Mean absolute error:  0.5286283596581924\n",
      "Mean squared error :  0.5179331255246699\n",
      "R-squared score    :  0.6125511913966952\n"
     ]
    }
   ],
   "source": [
    "#Evaluate model using commonly used metrics\n",
    "from sklearn.metrics import mean_squared_error, mean_absolute_error, r2_score\n",
    "mse_train = mean_squared_error(y_train, y_pred_train)\n",
    "mae_train = mean_absolute_error(y_train, y_pred_train)\n",
    "r2_train = r2_score(y_train, y_pred_train)\n",
    "\n",
    "# Print the evaluation metrics on train data\n",
    "print(\"Evaluation metrics: Train Data\")\n",
    "print(\"Mean absolute error: \", mae_train)\n",
    "print(\"Mean squared error : \", mse_train)\n",
    "print(\"R-squared score    : \", r2_train)"
   ]
  },
  {
   "cell_type": "code",
   "execution_count": 54,
   "metadata": {},
   "outputs": [
    {
     "name": "stdout",
     "output_type": "stream",
     "text": [
      "Evaluation metrics: Test Data\n",
      "Mean absolute error:  0.5332001304956556\n",
      "Mean squared error :  0.5558915986952442\n",
      "R-squared score    :  0.575787706032451\n"
     ]
    }
   ],
   "source": [
    "mse_test = mean_squared_error(y_test, y_pred_test)\n",
    "mae_test = mean_absolute_error(y_test, y_pred_test)\n",
    "r2_test = r2_score(y_test, y_pred_test)\n",
    "\n",
    "# Print the evaluation metrics on test data\n",
    "print(\"Evaluation metrics: Test Data\")\n",
    "print(\"Mean absolute error: \", mae_test)\n",
    "print(\"Mean squared error : \", mse_test)\n",
    "print(\"R-squared score    : \", r2_test)"
   ]
  },
  {
   "cell_type": "code",
   "execution_count": 55,
   "metadata": {},
   "outputs": [
    {
     "name": "stdout",
     "output_type": "stream",
     "text": [
      "Model coefficients    :  [[ 4.48674910e-01  9.72425752e-03 -1.23323343e-01  7.83144907e-01\n",
      "  -2.02962058e-06 -3.52631849e-03 -4.19792487e-01 -4.33708065e-01]]\n",
      "Corresponding features:  ['MedInc' 'HouseAge' 'AveRooms' 'AveBedrms' 'Population' 'AveOccup'\n",
      " 'Latitude' 'Longitude']\n"
     ]
    }
   ],
   "source": [
    "print(\"Model coefficients    : \", model.coef_)\n",
    "print(\"Corresponding features: \", featureDF.columns.values)"
   ]
  },
  {
   "cell_type": "code",
   "execution_count": null,
   "metadata": {},
   "outputs": [],
   "source": []
  }
 ],
 "metadata": {
  "kernelspec": {
   "display_name": "base",
   "language": "python",
   "name": "python3"
  },
  "language_info": {
   "codemirror_mode": {
    "name": "ipython",
    "version": 3
   },
   "file_extension": ".py",
   "mimetype": "text/x-python",
   "name": "python",
   "nbconvert_exporter": "python",
   "pygments_lexer": "ipython3",
   "version": "3.9.12"
  }
 },
 "nbformat": 4,
 "nbformat_minor": 2
}
